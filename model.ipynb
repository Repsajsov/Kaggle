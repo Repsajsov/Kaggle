{
 "cells": [
  {
   "cell_type": "markdown",
   "id": "d79cf9bf",
   "metadata": {},
   "source": [
    "## Imports and data reading\n"
   ]
  },
  {
   "cell_type": "code",
   "execution_count": 28,
   "id": "00720dec",
   "metadata": {},
   "outputs": [
    {
     "data": {
      "text/html": [
       "<div><style>\n",
       ".dataframe > thead > tr,\n",
       ".dataframe > tbody > tr {\n",
       "  text-align: right;\n",
       "  white-space: pre-wrap;\n",
       "}\n",
       "</style>\n",
       "<small>shape: (5, 8)</small><table border=\"1\" class=\"dataframe\"><thead><tr><th>PassengerId</th><th>Survived</th><th>Sex_female</th><th>Embarked_C</th><th>IsChild</th><th>HasSmallFamily</th><th>PC1</th><th>PC3</th></tr><tr><td>i64</td><td>i64</td><td>i64</td><td>i64</td><td>i64</td><td>i64</td><td>f64</td><td>f64</td></tr></thead><tbody><tr><td>1</td><td>0</td><td>0</td><td>0</td><td>0</td><td>1</td><td>-1.140324</td><td>0.054224</td></tr><tr><td>2</td><td>1</td><td>1</td><td>1</td><td>0</td><td>1</td><td>2.010718</td><td>0.217963</td></tr><tr><td>3</td><td>1</td><td>1</td><td>0</td><td>0</td><td>0</td><td>-1.078463</td><td>0.052638</td></tr><tr><td>4</td><td>1</td><td>1</td><td>0</td><td>0</td><td>1</td><td>1.782793</td><td>0.223803</td></tr><tr><td>5</td><td>0</td><td>0</td><td>0</td><td>0</td><td>0</td><td>-1.067523</td><td>0.052358</td></tr></tbody></table></div>"
      ],
      "text/plain": [
       "shape: (5, 8)\n",
       "┌─────────────┬──────────┬────────────┬────────────┬─────────┬──────────────┬───────────┬──────────┐\n",
       "│ PassengerId ┆ Survived ┆ Sex_female ┆ Embarked_C ┆ IsChild ┆ HasSmallFami ┆ PC1       ┆ PC3      │\n",
       "│ ---         ┆ ---      ┆ ---        ┆ ---        ┆ ---     ┆ ly           ┆ ---       ┆ ---      │\n",
       "│ i64         ┆ i64      ┆ i64        ┆ i64        ┆ i64     ┆ ---          ┆ f64       ┆ f64      │\n",
       "│             ┆          ┆            ┆            ┆         ┆ i64          ┆           ┆          │\n",
       "╞═════════════╪══════════╪════════════╪════════════╪═════════╪══════════════╪═══════════╪══════════╡\n",
       "│ 1           ┆ 0        ┆ 0          ┆ 0          ┆ 0       ┆ 1            ┆ -1.140324 ┆ 0.054224 │\n",
       "│ 2           ┆ 1        ┆ 1          ┆ 1          ┆ 0       ┆ 1            ┆ 2.010718  ┆ 0.217963 │\n",
       "│ 3           ┆ 1        ┆ 1          ┆ 0          ┆ 0       ┆ 0            ┆ -1.078463 ┆ 0.052638 │\n",
       "│ 4           ┆ 1        ┆ 1          ┆ 0          ┆ 0       ┆ 1            ┆ 1.782793  ┆ 0.223803 │\n",
       "│ 5           ┆ 0        ┆ 0          ┆ 0          ┆ 0       ┆ 0            ┆ -1.067523 ┆ 0.052358 │\n",
       "└─────────────┴──────────┴────────────┴────────────┴─────────┴──────────────┴───────────┴──────────┘"
      ]
     },
     "execution_count": 28,
     "metadata": {},
     "output_type": "execute_result"
    }
   ],
   "source": [
    "from sklearn.model_selection import train_test_split, GridSearchCV\n",
    "from sklearn.ensemble import RandomForestClassifier, GradientBoostingClassifier\n",
    "from sklearn.linear_model import LogisticRegression\n",
    "from sklearn.svm import SVC\n",
    "from sklearn.metrics import accuracy_score\n",
    "\n",
    "import numpy as np\n",
    "\n",
    "import polars as pl\n",
    "\n",
    "df = pl.read_csv(\"../Data/Titanic/advancedDataframeSolution.csv\")\n",
    "\n",
    "df.head()"
   ]
  },
  {
   "cell_type": "markdown",
   "id": "a950d988",
   "metadata": {},
   "source": [
    "## Splitting data\n"
   ]
  },
  {
   "cell_type": "code",
   "execution_count": 29,
   "id": "abe697ef",
   "metadata": {},
   "outputs": [],
   "source": [
    "X, y = df.drop(\"Survived\", \"PassengerId\"), df[\"Survived\"] \n",
    "X_train, X_test, y_train, y_test = train_test_split(X, y, test_size=0.2, random_state=42)"
   ]
  },
  {
   "cell_type": "markdown",
   "id": "fa2ba53c",
   "metadata": {},
   "source": [
    "## Models\n"
   ]
  },
  {
   "cell_type": "code",
   "execution_count": 30,
   "id": "6a16b8ac",
   "metadata": {},
   "outputs": [],
   "source": [
    "models = {\n",
    "    'RandomForest': {\n",
    "        'model': RandomForestClassifier(random_state=42),\n",
    "        'params': {\n",
    "            'n_estimators': np.arange(1, 100),\n",
    "            'max_depth': np.arange(1, 10)\n",
    "        }\n",
    "    },\n",
    "    'LogisticRegression': {\n",
    "        'model': LogisticRegression(random_state=42, max_iter=1000),\n",
    "        'params': {\n",
    "            'C': np.arange(1, 10, 0.1),\n",
    "            'penalty': ['l2']\n",
    "        }\n",
    "    },\n",
    "    # 'SVM': {\n",
    "    #     'model': SVC(random_state=42),\n",
    "    #     'params': {\n",
    "    #         'C': np.arange(1, 10, 0.1),\n",
    "    #         'kernel': ['rbf', 'linear']\n",
    "    #     }\n",
    "    # },\n",
    "    'GradientBoosting': {\n",
    "        'model': GradientBoostingClassifier(random_state=42),\n",
    "        'params': {\n",
    "            'n_estimators': np.arange(1, 100),\n",
    "            'learning_rate': np.arange(1, 10)\n",
    "        }\n",
    "    }\n",
    "}"
   ]
  },
  {
   "cell_type": "markdown",
   "id": "16ebd0ee",
   "metadata": {},
   "source": [
    "## Gridsearch\n"
   ]
  },
  {
   "cell_type": "code",
   "execution_count": 31,
   "id": "d8274363",
   "metadata": {},
   "outputs": [
    {
     "name": "stdout",
     "output_type": "stream",
     "text": [
      "Training RandomForest...\n",
      "Training LogisticRegression...\n",
      "Training GradientBoosting...\n"
     ]
    }
   ],
   "source": [
    "results = {}\n",
    "for model_key, model_values in models.items():\n",
    "    print(f\"Training {model_key}...\")\n",
    "\n",
    "    grid_search = GridSearchCV(\n",
    "        estimator=model_values[\"model\"],\n",
    "        param_grid=model_values[\"params\"],\n",
    "        cv=5,\n",
    "        scoring=\"accuracy\",\n",
    "        n_jobs=-1\n",
    "    )\n",
    "\n",
    "    grid_search.fit(X_train, y_train)\n",
    "    y_pred = grid_search.predict(X_test)\n",
    "    accuracy = accuracy_score(y_test, y_pred)\n",
    "\n",
    "    results[model_key] = {\n",
    "        \"best_params\": grid_search.best_params_,\n",
    "        \"cv_score\": grid_search.best_score_,\n",
    "        \"test_score\": accuracy\n",
    "    }\n"
   ]
  },
  {
   "cell_type": "code",
   "execution_count": 32,
   "id": "897c73d6",
   "metadata": {},
   "outputs": [
    {
     "data": {
      "text/plain": [
       "'RandomForest'"
      ]
     },
     "metadata": {},
     "output_type": "display_data"
    },
    {
     "data": {
      "text/plain": [
       "{'best_params': {'max_depth': np.int64(6), 'n_estimators': np.int64(93)},\n",
       " 'cv_score': np.float64(0.8342657342657344),\n",
       " 'test_score': 0.8156424581005587}"
      ]
     },
     "metadata": {},
     "output_type": "display_data"
    },
    {
     "data": {
      "text/plain": [
       "'LogisticRegression'"
      ]
     },
     "metadata": {},
     "output_type": "display_data"
    },
    {
     "data": {
      "text/plain": [
       "{'best_params': {'C': np.float64(1.4000000000000004), 'penalty': 'l2'},\n",
       " 'cv_score': np.float64(0.7850389047572146),\n",
       " 'test_score': 0.7877094972067039}"
      ]
     },
     "metadata": {},
     "output_type": "display_data"
    },
    {
     "data": {
      "text/plain": [
       "'GradientBoosting'"
      ]
     },
     "metadata": {},
     "output_type": "display_data"
    },
    {
     "data": {
      "text/plain": [
       "{'best_params': {'learning_rate': np.int64(1), 'n_estimators': np.int64(8)},\n",
       " 'cv_score': np.float64(0.823076923076923),\n",
       " 'test_score': 0.8156424581005587}"
      ]
     },
     "metadata": {},
     "output_type": "display_data"
    }
   ],
   "source": [
    "for key, value in results.items():\n",
    "    display(key, value)"
   ]
  },
  {
   "cell_type": "code",
   "execution_count": 33,
   "id": "2713ea33",
   "metadata": {},
   "outputs": [
    {
     "ename": "ValueError",
     "evalue": "The feature names should match those that were passed during fit.\nFeature names unseen at fit time:\n- Age\n- Embarked_Q\n- Fare\n- Parch\n- PassengerId\n- ...\nFeature names seen at fit time, yet now missing:\n- HasSmallFamily\n- IsChild\n- PC1\n- PC3\n- Sex_female\n",
     "output_type": "error",
     "traceback": [
      "\u001b[31m---------------------------------------------------------------------------\u001b[39m",
      "\u001b[31mValueError\u001b[39m                                Traceback (most recent call last)",
      "\u001b[36mCell\u001b[39m\u001b[36m \u001b[39m\u001b[32mIn[33]\u001b[39m\u001b[32m, line 5\u001b[39m\n\u001b[32m      2\u001b[39m final_model.fit(X, y)\n\u001b[32m      4\u001b[39m X_kaggle = pl.read_csv(\u001b[33m\"\u001b[39m\u001b[33m../Data/Titanic/baseDataframeSolution.csv\u001b[39m\u001b[33m\"\u001b[39m)\n\u001b[32m----> \u001b[39m\u001b[32m5\u001b[39m solution = \u001b[43mfinal_model\u001b[49m\u001b[43m.\u001b[49m\u001b[43mpredict\u001b[49m\u001b[43m(\u001b[49m\u001b[43mX_kaggle\u001b[49m\u001b[43m)\u001b[49m\n\u001b[32m      7\u001b[39m solution\n",
      "\u001b[36mFile \u001b[39m\u001b[32m/opt/miniconda3/envs/kaggle/lib/python3.13/site-packages/sklearn/ensemble/_forest.py:904\u001b[39m, in \u001b[36mForestClassifier.predict\u001b[39m\u001b[34m(self, X)\u001b[39m\n\u001b[32m    883\u001b[39m \u001b[38;5;28;01mdef\u001b[39;00m\u001b[38;5;250m \u001b[39m\u001b[34mpredict\u001b[39m(\u001b[38;5;28mself\u001b[39m, X):\n\u001b[32m    884\u001b[39m \u001b[38;5;250m    \u001b[39m\u001b[33;03m\"\"\"\u001b[39;00m\n\u001b[32m    885\u001b[39m \u001b[33;03m    Predict class for X.\u001b[39;00m\n\u001b[32m    886\u001b[39m \n\u001b[32m   (...)\u001b[39m\u001b[32m    902\u001b[39m \u001b[33;03m        The predicted classes.\u001b[39;00m\n\u001b[32m    903\u001b[39m \u001b[33;03m    \"\"\"\u001b[39;00m\n\u001b[32m--> \u001b[39m\u001b[32m904\u001b[39m     proba = \u001b[38;5;28;43mself\u001b[39;49m\u001b[43m.\u001b[49m\u001b[43mpredict_proba\u001b[49m\u001b[43m(\u001b[49m\u001b[43mX\u001b[49m\u001b[43m)\u001b[49m\n\u001b[32m    906\u001b[39m     \u001b[38;5;28;01mif\u001b[39;00m \u001b[38;5;28mself\u001b[39m.n_outputs_ == \u001b[32m1\u001b[39m:\n\u001b[32m    907\u001b[39m         \u001b[38;5;28;01mreturn\u001b[39;00m \u001b[38;5;28mself\u001b[39m.classes_.take(np.argmax(proba, axis=\u001b[32m1\u001b[39m), axis=\u001b[32m0\u001b[39m)\n",
      "\u001b[36mFile \u001b[39m\u001b[32m/opt/miniconda3/envs/kaggle/lib/python3.13/site-packages/sklearn/ensemble/_forest.py:946\u001b[39m, in \u001b[36mForestClassifier.predict_proba\u001b[39m\u001b[34m(self, X)\u001b[39m\n\u001b[32m    944\u001b[39m check_is_fitted(\u001b[38;5;28mself\u001b[39m)\n\u001b[32m    945\u001b[39m \u001b[38;5;66;03m# Check data\u001b[39;00m\n\u001b[32m--> \u001b[39m\u001b[32m946\u001b[39m X = \u001b[38;5;28;43mself\u001b[39;49m\u001b[43m.\u001b[49m\u001b[43m_validate_X_predict\u001b[49m\u001b[43m(\u001b[49m\u001b[43mX\u001b[49m\u001b[43m)\u001b[49m\n\u001b[32m    948\u001b[39m \u001b[38;5;66;03m# Assign chunk of trees to jobs\u001b[39;00m\n\u001b[32m    949\u001b[39m n_jobs, _, _ = _partition_estimators(\u001b[38;5;28mself\u001b[39m.n_estimators, \u001b[38;5;28mself\u001b[39m.n_jobs)\n",
      "\u001b[36mFile \u001b[39m\u001b[32m/opt/miniconda3/envs/kaggle/lib/python3.13/site-packages/sklearn/ensemble/_forest.py:638\u001b[39m, in \u001b[36mBaseForest._validate_X_predict\u001b[39m\u001b[34m(self, X)\u001b[39m\n\u001b[32m    635\u001b[39m \u001b[38;5;28;01melse\u001b[39;00m:\n\u001b[32m    636\u001b[39m     ensure_all_finite = \u001b[38;5;28;01mTrue\u001b[39;00m\n\u001b[32m--> \u001b[39m\u001b[32m638\u001b[39m X = \u001b[43mvalidate_data\u001b[49m\u001b[43m(\u001b[49m\n\u001b[32m    639\u001b[39m \u001b[43m    \u001b[49m\u001b[38;5;28;43mself\u001b[39;49m\u001b[43m,\u001b[49m\n\u001b[32m    640\u001b[39m \u001b[43m    \u001b[49m\u001b[43mX\u001b[49m\u001b[43m,\u001b[49m\n\u001b[32m    641\u001b[39m \u001b[43m    \u001b[49m\u001b[43mdtype\u001b[49m\u001b[43m=\u001b[49m\u001b[43mDTYPE\u001b[49m\u001b[43m,\u001b[49m\n\u001b[32m    642\u001b[39m \u001b[43m    \u001b[49m\u001b[43maccept_sparse\u001b[49m\u001b[43m=\u001b[49m\u001b[33;43m\"\u001b[39;49m\u001b[33;43mcsr\u001b[39;49m\u001b[33;43m\"\u001b[39;49m\u001b[43m,\u001b[49m\n\u001b[32m    643\u001b[39m \u001b[43m    \u001b[49m\u001b[43mreset\u001b[49m\u001b[43m=\u001b[49m\u001b[38;5;28;43;01mFalse\u001b[39;49;00m\u001b[43m,\u001b[49m\n\u001b[32m    644\u001b[39m \u001b[43m    \u001b[49m\u001b[43mensure_all_finite\u001b[49m\u001b[43m=\u001b[49m\u001b[43mensure_all_finite\u001b[49m\u001b[43m,\u001b[49m\n\u001b[32m    645\u001b[39m \u001b[43m\u001b[49m\u001b[43m)\u001b[49m\n\u001b[32m    646\u001b[39m \u001b[38;5;28;01mif\u001b[39;00m issparse(X) \u001b[38;5;129;01mand\u001b[39;00m (X.indices.dtype != np.intc \u001b[38;5;129;01mor\u001b[39;00m X.indptr.dtype != np.intc):\n\u001b[32m    647\u001b[39m     \u001b[38;5;28;01mraise\u001b[39;00m \u001b[38;5;167;01mValueError\u001b[39;00m(\u001b[33m\"\u001b[39m\u001b[33mNo support for np.int64 index based sparse matrices\u001b[39m\u001b[33m\"\u001b[39m)\n",
      "\u001b[36mFile \u001b[39m\u001b[32m/opt/miniconda3/envs/kaggle/lib/python3.13/site-packages/sklearn/utils/validation.py:2919\u001b[39m, in \u001b[36mvalidate_data\u001b[39m\u001b[34m(_estimator, X, y, reset, validate_separately, skip_check_array, **check_params)\u001b[39m\n\u001b[32m   2835\u001b[39m \u001b[38;5;28;01mdef\u001b[39;00m\u001b[38;5;250m \u001b[39m\u001b[34mvalidate_data\u001b[39m(\n\u001b[32m   2836\u001b[39m     _estimator,\n\u001b[32m   2837\u001b[39m     /,\n\u001b[32m   (...)\u001b[39m\u001b[32m   2843\u001b[39m     **check_params,\n\u001b[32m   2844\u001b[39m ):\n\u001b[32m   2845\u001b[39m \u001b[38;5;250m    \u001b[39m\u001b[33;03m\"\"\"Validate input data and set or check feature names and counts of the input.\u001b[39;00m\n\u001b[32m   2846\u001b[39m \n\u001b[32m   2847\u001b[39m \u001b[33;03m    This helper function should be used in an estimator that requires input\u001b[39;00m\n\u001b[32m   (...)\u001b[39m\u001b[32m   2917\u001b[39m \u001b[33;03m        validated.\u001b[39;00m\n\u001b[32m   2918\u001b[39m \u001b[33;03m    \"\"\"\u001b[39;00m\n\u001b[32m-> \u001b[39m\u001b[32m2919\u001b[39m     \u001b[43m_check_feature_names\u001b[49m\u001b[43m(\u001b[49m\u001b[43m_estimator\u001b[49m\u001b[43m,\u001b[49m\u001b[43m \u001b[49m\u001b[43mX\u001b[49m\u001b[43m,\u001b[49m\u001b[43m \u001b[49m\u001b[43mreset\u001b[49m\u001b[43m=\u001b[49m\u001b[43mreset\u001b[49m\u001b[43m)\u001b[49m\n\u001b[32m   2920\u001b[39m     tags = get_tags(_estimator)\n\u001b[32m   2921\u001b[39m     \u001b[38;5;28;01mif\u001b[39;00m y \u001b[38;5;129;01mis\u001b[39;00m \u001b[38;5;28;01mNone\u001b[39;00m \u001b[38;5;129;01mand\u001b[39;00m tags.target_tags.required:\n",
      "\u001b[36mFile \u001b[39m\u001b[32m/opt/miniconda3/envs/kaggle/lib/python3.13/site-packages/sklearn/utils/validation.py:2777\u001b[39m, in \u001b[36m_check_feature_names\u001b[39m\u001b[34m(estimator, X, reset)\u001b[39m\n\u001b[32m   2774\u001b[39m \u001b[38;5;28;01mif\u001b[39;00m \u001b[38;5;129;01mnot\u001b[39;00m missing_names \u001b[38;5;129;01mand\u001b[39;00m \u001b[38;5;129;01mnot\u001b[39;00m unexpected_names:\n\u001b[32m   2775\u001b[39m     message += \u001b[33m\"\u001b[39m\u001b[33mFeature names must be in the same order as they were in fit.\u001b[39m\u001b[38;5;130;01m\\n\u001b[39;00m\u001b[33m\"\u001b[39m\n\u001b[32m-> \u001b[39m\u001b[32m2777\u001b[39m \u001b[38;5;28;01mraise\u001b[39;00m \u001b[38;5;167;01mValueError\u001b[39;00m(message)\n",
      "\u001b[31mValueError\u001b[39m: The feature names should match those that were passed during fit.\nFeature names unseen at fit time:\n- Age\n- Embarked_Q\n- Fare\n- Parch\n- PassengerId\n- ...\nFeature names seen at fit time, yet now missing:\n- HasSmallFamily\n- IsChild\n- PC1\n- PC3\n- Sex_female\n"
     ]
    }
   ],
   "source": [
    "final_model =RandomForestClassifier(max_depth=6, n_estimators=13)\n",
    "final_model.fit(X, y)\n",
    "\n",
    "X_kaggle = pl.read_csv(\"../Data/Titanic/baseDataframeSolution.csv\")\n",
    "solution = final_model.predict(X_kaggle)\n",
    "\n",
    "solution"
   ]
  },
  {
   "cell_type": "code",
   "execution_count": null,
   "id": "5123c459",
   "metadata": {},
   "outputs": [],
   "source": [
    "X_solution = pl.read_csv(\"../Data/Titanic/test.csv\")"
   ]
  },
  {
   "cell_type": "code",
   "execution_count": null,
   "id": "750c0c9d",
   "metadata": {},
   "outputs": [],
   "source": [
    "pl.DataFrame({\n",
    " \"PassengerId\" : X_solution[\"PassengerId\"],\n",
    " \"Survived\" : solution\n",
    "}).write_csv(\"../Data/Titanic/solution.csv\")"
   ]
  }
 ],
 "metadata": {
  "kernelspec": {
   "display_name": "Python 3",
   "language": "python",
   "name": "python3"
  },
  "language_info": {
   "codemirror_mode": {
    "name": "ipython",
    "version": 3
   },
   "file_extension": ".py",
   "mimetype": "text/x-python",
   "name": "python",
   "nbconvert_exporter": "python",
   "pygments_lexer": "ipython3",
   "version": "3.13.2"
  }
 },
 "nbformat": 4,
 "nbformat_minor": 5
}
