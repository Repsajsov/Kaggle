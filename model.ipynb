{
 "cells": [
  {
   "cell_type": "markdown",
   "id": "d79cf9bf",
   "metadata": {},
   "source": [
    "## Imports and data reading"
   ]
  },
  {
   "cell_type": "code",
   "execution_count": 98,
   "id": "00720dec",
   "metadata": {},
   "outputs": [
    {
     "data": {
      "text/html": [
       "<div><style>\n",
       ".dataframe > thead > tr,\n",
       ".dataframe > tbody > tr {\n",
       "  text-align: right;\n",
       "  white-space: pre-wrap;\n",
       "}\n",
       "</style>\n",
       "<small>shape: (5, 9)</small><table border=\"1\" class=\"dataframe\"><thead><tr><th>Survived</th><th>Pclass</th><th>Sex</th><th>Age</th><th>SibSp</th><th>Parch</th><th>Fare</th><th>Embarked_C</th><th>Embarked_Q</th></tr><tr><td>i64</td><td>i64</td><td>i64</td><td>f64</td><td>i64</td><td>i64</td><td>f64</td><td>i64</td><td>i64</td></tr></thead><tbody><tr><td>0</td><td>3</td><td>1</td><td>-0.565419</td><td>1</td><td>0</td><td>-0.879247</td><td>0</td><td>0</td></tr><tr><td>1</td><td>1</td><td>0</td><td>0.663488</td><td>1</td><td>0</td><td>1.360456</td><td>1</td><td>0</td></tr><tr><td>1</td><td>3</td><td>0</td><td>-0.258192</td><td>0</td><td>0</td><td>-0.798092</td><td>0</td><td>0</td></tr><tr><td>1</td><td>1</td><td>0</td><td>0.433068</td><td>1</td><td>0</td><td>1.061442</td><td>0</td><td>0</td></tr><tr><td>0</td><td>3</td><td>1</td><td>0.433068</td><td>0</td><td>0</td><td>-0.783739</td><td>0</td><td>0</td></tr></tbody></table></div>"
      ],
      "text/plain": [
       "shape: (5, 9)\n",
       "┌──────────┬────────┬─────┬───────────┬───┬───────┬───────────┬────────────┬────────────┐\n",
       "│ Survived ┆ Pclass ┆ Sex ┆ Age       ┆ … ┆ Parch ┆ Fare      ┆ Embarked_C ┆ Embarked_Q │\n",
       "│ ---      ┆ ---    ┆ --- ┆ ---       ┆   ┆ ---   ┆ ---       ┆ ---        ┆ ---        │\n",
       "│ i64      ┆ i64    ┆ i64 ┆ f64       ┆   ┆ i64   ┆ f64       ┆ i64        ┆ i64        │\n",
       "╞══════════╪════════╪═════╪═══════════╪═══╪═══════╪═══════════╪════════════╪════════════╡\n",
       "│ 0        ┆ 3      ┆ 1   ┆ -0.565419 ┆ … ┆ 0     ┆ -0.879247 ┆ 0          ┆ 0          │\n",
       "│ 1        ┆ 1      ┆ 0   ┆ 0.663488  ┆ … ┆ 0     ┆ 1.360456  ┆ 1          ┆ 0          │\n",
       "│ 1        ┆ 3      ┆ 0   ┆ -0.258192 ┆ … ┆ 0     ┆ -0.798092 ┆ 0          ┆ 0          │\n",
       "│ 1        ┆ 1      ┆ 0   ┆ 0.433068  ┆ … ┆ 0     ┆ 1.061442  ┆ 0          ┆ 0          │\n",
       "│ 0        ┆ 3      ┆ 1   ┆ 0.433068  ┆ … ┆ 0     ┆ -0.783739 ┆ 0          ┆ 0          │\n",
       "└──────────┴────────┴─────┴───────────┴───┴───────┴───────────┴────────────┴────────────┘"
      ]
     },
     "execution_count": 98,
     "metadata": {},
     "output_type": "execute_result"
    }
   ],
   "source": [
    "from sklearn.model_selection import train_test_split, GridSearchCV\n",
    "from sklearn.ensemble import RandomForestClassifier, GradientBoostingClassifier\n",
    "from sklearn.linear_model import LogisticRegression\n",
    "from sklearn.svm import SVC\n",
    "from sklearn.metrics import accuracy_score\n",
    "\n",
    "import numpy as np\n",
    "\n",
    "import polars as pl\n",
    "\n",
    "df = pl.read_csv(\"../Data/baseDataframe.csv\")\n",
    "\n",
    "df.head()"
   ]
  },
  {
   "cell_type": "markdown",
   "id": "a950d988",
   "metadata": {},
   "source": [
    "## Splitting data"
   ]
  },
  {
   "cell_type": "code",
   "execution_count": 99,
   "id": "abe697ef",
   "metadata": {},
   "outputs": [],
   "source": [
    "X, y = df.drop(\"Survived\"), df[\"Survived\"] \n",
    "X_train, X_test, y_train, y_test = train_test_split(X, y, test_size=0.2, random_state=42)"
   ]
  },
  {
   "cell_type": "markdown",
   "id": "fa2ba53c",
   "metadata": {},
   "source": [
    "## Models"
   ]
  },
  {
   "cell_type": "code",
   "execution_count": 100,
   "id": "6a16b8ac",
   "metadata": {},
   "outputs": [],
   "source": [
    "models = {\n",
    "    'RandomForest': {\n",
    "        'model': RandomForestClassifier(random_state=42),\n",
    "        'params': {\n",
    "            'n_estimators': np.arange(1, 100),\n",
    "            'max_depth': np.arange(1, 10)\n",
    "        }\n",
    "    },\n",
    "    'LogisticRegression': {\n",
    "        'model': LogisticRegression(random_state=42, max_iter=1000),\n",
    "        'params': {\n",
    "            'C': np.arange(1, 10, 0.1),\n",
    "            'penalty': ['l2']\n",
    "        }\n",
    "    },\n",
    "    'SVM': {\n",
    "        'model': SVC(random_state=42),\n",
    "        'params': {\n",
    "            'C': np.arange(1, 10, 0.1),\n",
    "            'kernel': ['rbf', 'linear']\n",
    "        }\n",
    "    },\n",
    "    'GradientBoosting': {\n",
    "        'model': GradientBoostingClassifier(random_state=42),\n",
    "        'params': {\n",
    "            'n_estimators': np.arange(1, 100),\n",
    "            'learning_rate': np.arange(1, 10)\n",
    "        }\n",
    "    }\n",
    "}"
   ]
  },
  {
   "cell_type": "markdown",
   "id": "16ebd0ee",
   "metadata": {},
   "source": [
    "## Gridsearch"
   ]
  },
  {
   "cell_type": "code",
   "execution_count": 101,
   "id": "d8274363",
   "metadata": {},
   "outputs": [
    {
     "name": "stdout",
     "output_type": "stream",
     "text": [
      "Training RandomForest...\n",
      "Training LogisticRegression...\n",
      "Training SVM...\n",
      "Training GradientBoosting...\n"
     ]
    }
   ],
   "source": [
    "results = {}\n",
    "for model_key, model_values in models.items():\n",
    "    print(f\"Training {model_key}...\")\n",
    "\n",
    "    grid_search = GridSearchCV(\n",
    "        estimator=model_values[\"model\"],\n",
    "        param_grid=model_values[\"params\"],\n",
    "        cv=5,\n",
    "        scoring=\"accuracy\",\n",
    "        n_jobs=-1\n",
    "    )\n",
    "\n",
    "    grid_search.fit(X_train, y_train)\n",
    "    y_pred = grid_search.predict(X_test)\n",
    "    accuracy = accuracy_score(y_test, y_pred)\n",
    "\n",
    "    results[model_key] = {\n",
    "        \"best_params\": grid_search.best_params_,\n",
    "        \"cv_score\": grid_search.best_score_,\n",
    "        \"test_score\": accuracy\n",
    "    }\n"
   ]
  },
  {
   "cell_type": "code",
   "execution_count": 102,
   "id": "897c73d6",
   "metadata": {},
   "outputs": [
    {
     "data": {
      "text/plain": [
       "'RandomForest'"
      ]
     },
     "metadata": {},
     "output_type": "display_data"
    },
    {
     "data": {
      "text/plain": [
       "{'best_params': {'max_depth': np.int64(6), 'n_estimators': np.int64(13)},\n",
       " 'cv_score': np.float64(0.8314389835516597),\n",
       " 'test_score': 0.8156424581005587}"
      ]
     },
     "metadata": {},
     "output_type": "display_data"
    },
    {
     "data": {
      "text/plain": [
       "'LogisticRegression'"
      ]
     },
     "metadata": {},
     "output_type": "display_data"
    },
    {
     "data": {
      "text/plain": [
       "{'best_params': {'C': np.float64(1.0), 'penalty': 'l2'},\n",
       " 'cv_score': np.float64(0.7892642568698907),\n",
       " 'test_score': 0.7988826815642458}"
      ]
     },
     "metadata": {},
     "output_type": "display_data"
    },
    {
     "data": {
      "text/plain": [
       "'SVM'"
      ]
     },
     "metadata": {},
     "output_type": "display_data"
    },
    {
     "data": {
      "text/plain": [
       "{'best_params': {'C': np.float64(2.4000000000000012), 'kernel': 'rbf'},\n",
       " 'cv_score': np.float64(0.8243967300305328),\n",
       " 'test_score': 0.8156424581005587}"
      ]
     },
     "metadata": {},
     "output_type": "display_data"
    },
    {
     "data": {
      "text/plain": [
       "'GradientBoosting'"
      ]
     },
     "metadata": {},
     "output_type": "display_data"
    },
    {
     "data": {
      "text/plain": [
       "{'best_params': {'learning_rate': np.int64(1), 'n_estimators': np.int64(5)},\n",
       " 'cv_score': np.float64(0.825844577957254),\n",
       " 'test_score': 0.7597765363128491}"
      ]
     },
     "metadata": {},
     "output_type": "display_data"
    }
   ],
   "source": [
    "for key, value in results.items():\n",
    "    display(key, value)"
   ]
  },
  {
   "cell_type": "code",
   "execution_count": 103,
   "id": "2713ea33",
   "metadata": {},
   "outputs": [
    {
     "data": {
      "text/plain": [
       "array([0, 0, 0, 0, 1, 0, 0, 0, 1, 0, 0, 0, 1, 0, 1, 1, 0, 0, 1, 0, 1, 1,\n",
       "       1, 0, 1, 0, 1, 0, 0, 0, 0, 0, 0, 0, 1, 0, 1, 0, 0, 0, 0, 0, 0, 1,\n",
       "       1, 0, 0, 0, 1, 1, 0, 0, 1, 1, 0, 0, 0, 0, 0, 1, 0, 0, 0, 1, 1, 1,\n",
       "       1, 0, 0, 1, 1, 0, 0, 0, 1, 0, 0, 1, 0, 1, 1, 0, 0, 0, 0, 0, 1, 1,\n",
       "       1, 1, 1, 0, 1, 0, 0, 0, 1, 0, 1, 0, 1, 0, 0, 0, 1, 0, 0, 0, 0, 0,\n",
       "       0, 1, 1, 1, 1, 0, 0, 1, 0, 1, 1, 0, 1, 0, 0, 1, 0, 1, 0, 0, 0, 0,\n",
       "       0, 0, 0, 0, 0, 0, 1, 0, 0, 1, 0, 0, 0, 0, 0, 0, 0, 0, 1, 0, 0, 1,\n",
       "       0, 0, 1, 1, 0, 1, 1, 1, 1, 0, 0, 1, 1, 0, 1, 0, 0, 0, 0, 0, 0, 1,\n",
       "       1, 1, 1, 1, 0, 0, 1, 0, 1, 0, 1, 0, 0, 0, 0, 0, 0, 0, 1, 0, 1, 1,\n",
       "       0, 1, 1, 1, 0, 1, 0, 0, 0, 0, 1, 0, 0, 0, 0, 1, 0, 0, 1, 0, 1, 0,\n",
       "       1, 0, 1, 0, 1, 1, 0, 1, 0, 0, 1, 1, 0, 0, 1, 0, 0, 0, 1, 1, 1, 1,\n",
       "       0, 0, 0, 0, 1, 0, 1, 0, 1, 0, 1, 0, 0, 0, 0, 0, 1, 0, 0, 0, 1, 1,\n",
       "       0, 0, 0, 0, 1, 0, 0, 0, 1, 1, 0, 1, 0, 0, 0, 0, 0, 1, 1, 1, 1, 0,\n",
       "       0, 0, 0, 0, 0, 0, 0, 0, 0, 0, 1, 0, 0, 0, 0, 0, 0, 0, 1, 1, 1, 1,\n",
       "       0, 1, 0, 0, 0, 0, 1, 1, 1, 0, 0, 0, 0, 0, 0, 0, 1, 0, 1, 1, 0, 0,\n",
       "       1, 0, 0, 1, 0, 0, 0, 0, 0, 0, 0, 0, 0, 1, 0, 1, 0, 0, 0, 1, 1, 0,\n",
       "       0, 0, 1, 0, 1, 0, 0, 0, 0, 1, 1, 0, 1, 0, 0, 0, 1, 0, 0, 1, 0, 0,\n",
       "       1, 1, 0, 0, 0, 0, 0, 0, 1, 1, 0, 1, 0, 0, 0, 0, 0, 1, 1, 0, 0, 1,\n",
       "       0, 1, 0, 0, 1, 0, 1, 0, 0, 0, 0, 0, 1, 1, 1, 1, 0, 0, 1, 0, 0, 0])"
      ]
     },
     "execution_count": 103,
     "metadata": {},
     "output_type": "execute_result"
    }
   ],
   "source": [
    "final_model =RandomForestClassifier(max_depth=6, n_estimators=13)\n",
    "final_model.fit(X, y)\n",
    "\n",
    "X_kaggle = pl.read_csv(\"../Data/Titanic/baseDataframeSolution.csv\")\n",
    "solution = final_model.predict(X_kaggle)\n",
    "\n",
    "solution"
   ]
  },
  {
   "cell_type": "code",
   "execution_count": null,
   "id": "5123c459",
   "metadata": {},
   "outputs": [],
   "source": [
    "X_solution = pl.read_csv(\"../Data/Titanic/test.csv\")"
   ]
  },
  {
   "cell_type": "code",
   "execution_count": null,
   "id": "750c0c9d",
   "metadata": {},
   "outputs": [],
   "source": [
    "pl.DataFrame({\n",
    " \"PassengerId\" : X_solution[\"PassengerId\"],\n",
    " \"Survived\" : solution\n",
    "}).write_csv(\"../Data/Titanic/solution.csv\")"
   ]
  }
 ],
 "metadata": {
  "kernelspec": {
   "display_name": "kaggle",
   "language": "python",
   "name": "python3"
  },
  "language_info": {
   "codemirror_mode": {
    "name": "ipython",
    "version": 3
   },
   "file_extension": ".py",
   "mimetype": "text/x-python",
   "name": "python",
   "nbconvert_exporter": "python",
   "pygments_lexer": "ipython3",
   "version": "3.13.2"
  }
 },
 "nbformat": 4,
 "nbformat_minor": 5
}
