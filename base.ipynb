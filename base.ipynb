{
 "cells": [
  {
   "cell_type": "code",
   "execution_count": 22,
   "id": "c3bed248",
   "metadata": {},
   "outputs": [],
   "source": [
    "import polars as pl\n",
    "import seaborn as sns\n",
    "import numpy as np\n",
    "from sklearn.preprocessing import StandardScaler\n",
    "\n",
    "df = pl.read_csv(\"../Data/Titanic/test.csv\")"
   ]
  },
  {
   "cell_type": "code",
   "execution_count": null,
   "id": "8bdda453",
   "metadata": {},
   "outputs": [],
   "source": [
    "\n",
    "def standardize(column):\n",
    "    return (column - column.mean()) / column.std()"
   ]
  },
  {
   "cell_type": "code",
   "execution_count": null,
   "id": "22cb6093",
   "metadata": {},
   "outputs": [],
   "source": [
    "df = df.with_columns(\n",
    "    pl.when(pl.col(\"Sex\")==\"male\").then(pl.lit(1)).otherwise(pl.lit(0)).alias(\"Sex\"),\n",
    "    pl.col(\"Age\").fill_null(pl.col(\"Age\").median()),\n",
    "    pl.col(\"Fare\").log1p().alias(\"Fare\"),\n",
    "    ).with_columns(\n",
    "        standardize(pl.col(\"Age\")).alias(\"Age\"),\n",
    "        standardize(pl.col(\"Fare\")).alias(\"Fare\")\n",
    "        ).to_dummies(\n",
    "            \"Embarked\"\n",
    "        ).drop([\n",
    "            \"Name\",\n",
    "            \"Ticket\",\n",
    "            \"Cabin\",\n",
    "            \"Embarked_S\",\n",
    "            \"Embarked_null\",\n",
    "            ],\n",
    "            strict=False\n",
    "            )"
   ]
  },
  {
   "cell_type": "code",
   "execution_count": 25,
   "id": "6f7f2e10",
   "metadata": {},
   "outputs": [
    {
     "data": {
      "text/html": [
       "<div><style>\n",
       ".dataframe > thead > tr,\n",
       ".dataframe > tbody > tr {\n",
       "  text-align: right;\n",
       "  white-space: pre-wrap;\n",
       "}\n",
       "</style>\n",
       "<small>shape: (5, 9)</small><table border=\"1\" class=\"dataframe\"><thead><tr><th>PassengerId</th><th>Pclass</th><th>Sex</th><th>Age</th><th>SibSp</th><th>Parch</th><th>Fare</th><th>Embarked_C</th><th>Embarked_Q</th></tr><tr><td>i64</td><td>i64</td><td>i32</td><td>f64</td><td>i64</td><td>i64</td><td>f64</td><td>u8</td><td>u8</td></tr></thead><tbody><tr><td>892</td><td>3</td><td>1</td><td>0.385769</td><td>0</td><td>0</td><td>-0.865727</td><td>0</td><td>1</td></tr><tr><td>893</td><td>3</td><td>0</td><td>1.369729</td><td>1</td><td>0</td><td>-0.967611</td><td>0</td><td>0</td></tr><tr><td>894</td><td>2</td><td>1</td><td>2.550481</td><td>0</td><td>0</td><td>-0.668402</td><td>0</td><td>1</td></tr><tr><td>895</td><td>3</td><td>1</td><td>-0.204607</td><td>0</td><td>0</td><td>-0.772558</td><td>0</td><td>0</td></tr><tr><td>896</td><td>3</td><td>0</td><td>-0.598191</td><td>1</td><td>1</td><td>-0.443455</td><td>0</td><td>0</td></tr></tbody></table></div>"
      ],
      "text/plain": [
       "shape: (5, 9)\n",
       "┌─────────────┬────────┬─────┬───────────┬───┬───────┬───────────┬────────────┬────────────┐\n",
       "│ PassengerId ┆ Pclass ┆ Sex ┆ Age       ┆ … ┆ Parch ┆ Fare      ┆ Embarked_C ┆ Embarked_Q │\n",
       "│ ---         ┆ ---    ┆ --- ┆ ---       ┆   ┆ ---   ┆ ---       ┆ ---        ┆ ---        │\n",
       "│ i64         ┆ i64    ┆ i32 ┆ f64       ┆   ┆ i64   ┆ f64       ┆ u8         ┆ u8         │\n",
       "╞═════════════╪════════╪═════╪═══════════╪═══╪═══════╪═══════════╪════════════╪════════════╡\n",
       "│ 892         ┆ 3      ┆ 1   ┆ 0.385769  ┆ … ┆ 0     ┆ -0.865727 ┆ 0          ┆ 1          │\n",
       "│ 893         ┆ 3      ┆ 0   ┆ 1.369729  ┆ … ┆ 0     ┆ -0.967611 ┆ 0          ┆ 0          │\n",
       "│ 894         ┆ 2      ┆ 1   ┆ 2.550481  ┆ … ┆ 0     ┆ -0.668402 ┆ 0          ┆ 1          │\n",
       "│ 895         ┆ 3      ┆ 1   ┆ -0.204607 ┆ … ┆ 0     ┆ -0.772558 ┆ 0          ┆ 0          │\n",
       "│ 896         ┆ 3      ┆ 0   ┆ -0.598191 ┆ … ┆ 1     ┆ -0.443455 ┆ 0          ┆ 0          │\n",
       "└─────────────┴────────┴─────┴───────────┴───┴───────┴───────────┴────────────┴────────────┘"
      ]
     },
     "execution_count": 25,
     "metadata": {},
     "output_type": "execute_result"
    }
   ],
   "source": [
    "df.head()"
   ]
  },
  {
   "cell_type": "code",
   "execution_count": 26,
   "id": "e5a46083",
   "metadata": {},
   "outputs": [],
   "source": [
    "df.write_csv(\"../Data/Titanic/baseDataframeSolution.csv\")"
   ]
  }
 ],
 "metadata": {
  "kernelspec": {
   "display_name": "Python 3",
   "language": "python",
   "name": "python3"
  },
  "language_info": {
   "codemirror_mode": {
    "name": "ipython",
    "version": 3
   },
   "file_extension": ".py",
   "mimetype": "text/x-python",
   "name": "python",
   "nbconvert_exporter": "python",
   "pygments_lexer": "ipython3",
   "version": "3.13.2"
  }
 },
 "nbformat": 4,
 "nbformat_minor": 5
}
