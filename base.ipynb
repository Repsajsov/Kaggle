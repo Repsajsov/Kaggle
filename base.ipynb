{
 "cells": [
  {
   "cell_type": "code",
   "execution_count": 23,
   "id": "c3bed248",
   "metadata": {},
   "outputs": [],
   "source": [
    "import polars as pl\n",
    "import seaborn as sns\n",
    "import numpy as np\n",
    "from sklearn.preprocessing import StandardScaler\n",
    "\n",
    "df = pl.read_csv(\"../Data/Titanic/train.csv\")\n",
    "df_kaggle = pl.read_csv(\"../Data/Titanic/test.csv\")"
   ]
  },
  {
   "cell_type": "code",
   "execution_count": 24,
   "id": "8bdda453",
   "metadata": {},
   "outputs": [],
   "source": [
    "def standardize(column):\n",
    "    return (column - column.mean()) / column.std()"
   ]
  },
  {
   "cell_type": "code",
   "execution_count": null,
   "id": "22cb6093",
   "metadata": {},
   "outputs": [],
   "source": [
    "def preprocessing(df):\n",
    "    df = df.with_columns(\n",
    "        [\n",
    "            pl.when(pl.col(\"Sex\")==\"male\").then(pl.lit(1)).otherwise(pl.lit(0)).alias(\"Sex\"),\n",
    "            pl.col(\"Age\").fill_null(pl.col(\"Age\").median()),\n",
    "            pl.col(\"Fare\").log1p().alias(\"Fare\"),\n",
    "        ]\n",
    "    ).to_dummies(\n",
    "        \"Embarked\"\n",
    "    ).drop(\n",
    "        [\n",
    "            \"PassengerId\",\n",
    "            \"Name\",\n",
    "            \"Ticket\",\n",
    "            \"Cabin\",\n",
    "            \"Embarked_S\",\n",
    "            \"Embarked_null\",\n",
    "        ],\n",
    "        strict=False\n",
    "    )\n",
    "\n",
    "    df = df.with_columns(\n",
    "        [\n",
    "            standardize(pl.col(\"Age\")).alias(\"Age\"),\n",
    "            standardize(pl.col(\"Fare\")).alias(\"Fare\")\n",
    "        ]\n",
    "    )\n",
    "    return df"
   ]
  },
  {
   "cell_type": "code",
   "execution_count": 26,
   "id": "6f7f2e10",
   "metadata": {},
   "outputs": [
    {
     "ename": "NameError",
     "evalue": "name 'false' is not defined",
     "output_type": "error",
     "traceback": [
      "\u001b[31m---------------------------------------------------------------------------\u001b[39m",
      "\u001b[31mNameError\u001b[39m                                 Traceback (most recent call last)",
      "\u001b[36mCell\u001b[39m\u001b[36m \u001b[39m\u001b[32mIn[26]\u001b[39m\u001b[32m, line 1\u001b[39m\n\u001b[32m----> \u001b[39m\u001b[32m1\u001b[39m df = \u001b[43mpreprocessing\u001b[49m\u001b[43m(\u001b[49m\u001b[43mdf\u001b[49m\u001b[43m)\u001b[49m\n\u001b[32m      2\u001b[39m df_kaggle = preprocessing(df_kaggle)\n\u001b[32m      4\u001b[39m df.head()\n",
      "\u001b[36mCell\u001b[39m\u001b[36m \u001b[39m\u001b[32mIn[25]\u001b[39m\u001b[32m, line 19\u001b[39m, in \u001b[36mpreprocessing\u001b[39m\u001b[34m(df)\u001b[39m\n\u001b[32m      1\u001b[39m \u001b[38;5;28;01mdef\u001b[39;00m\u001b[38;5;250m \u001b[39m\u001b[34mpreprocessing\u001b[39m(df):\n\u001b[32m      2\u001b[39m     df = df.with_columns(\n\u001b[32m      3\u001b[39m         [\n\u001b[32m      4\u001b[39m             pl.when(pl.col(\u001b[33m\"\u001b[39m\u001b[33mSex\u001b[39m\u001b[33m\"\u001b[39m)==\u001b[33m\"\u001b[39m\u001b[33mmale\u001b[39m\u001b[33m\"\u001b[39m).then(pl.lit(\u001b[32m1\u001b[39m)).otherwise(pl.lit(\u001b[32m0\u001b[39m)).alias(\u001b[33m\"\u001b[39m\u001b[33mSex\u001b[39m\u001b[33m\"\u001b[39m),\n\u001b[32m      5\u001b[39m             pl.col(\u001b[33m\"\u001b[39m\u001b[33mAge\u001b[39m\u001b[33m\"\u001b[39m).fill_null(pl.col(\u001b[33m\"\u001b[39m\u001b[33mAge\u001b[39m\u001b[33m\"\u001b[39m).median()),\n\u001b[32m      6\u001b[39m             pl.col(\u001b[33m\"\u001b[39m\u001b[33mFare\u001b[39m\u001b[33m\"\u001b[39m).log1p().alias(\u001b[33m\"\u001b[39m\u001b[33mFare\u001b[39m\u001b[33m\"\u001b[39m),\n\u001b[32m      7\u001b[39m         ]\n\u001b[32m      8\u001b[39m     ).to_dummies(\n\u001b[32m      9\u001b[39m         \u001b[33m\"\u001b[39m\u001b[33mEmbarked\u001b[39m\u001b[33m\"\u001b[39m\n\u001b[32m     10\u001b[39m     ).drop(\n\u001b[32m     11\u001b[39m         [\n\u001b[32m     12\u001b[39m             \u001b[33m\"\u001b[39m\u001b[33mPassengerId\u001b[39m\u001b[33m\"\u001b[39m,\n\u001b[32m     13\u001b[39m             \u001b[33m\"\u001b[39m\u001b[33mName\u001b[39m\u001b[33m\"\u001b[39m,\n\u001b[32m     14\u001b[39m             \u001b[33m\"\u001b[39m\u001b[33mTicket\u001b[39m\u001b[33m\"\u001b[39m,\n\u001b[32m     15\u001b[39m             \u001b[33m\"\u001b[39m\u001b[33mCabin\u001b[39m\u001b[33m\"\u001b[39m,\n\u001b[32m     16\u001b[39m             \u001b[33m\"\u001b[39m\u001b[33mEmbarked_S\u001b[39m\u001b[33m\"\u001b[39m,\n\u001b[32m     17\u001b[39m             \u001b[33m\"\u001b[39m\u001b[33mEmbarked_null\u001b[39m\u001b[33m\"\u001b[39m,\n\u001b[32m     18\u001b[39m         ],\n\u001b[32m---> \u001b[39m\u001b[32m19\u001b[39m         strict=\u001b[43mfalse\u001b[49m\n\u001b[32m     20\u001b[39m     )\n\u001b[32m     22\u001b[39m     df = df.with_columns(\n\u001b[32m     23\u001b[39m         [\n\u001b[32m     24\u001b[39m             standardize(pl.col(\u001b[33m\"\u001b[39m\u001b[33mAge\u001b[39m\u001b[33m\"\u001b[39m)).alias(\u001b[33m\"\u001b[39m\u001b[33mAge\u001b[39m\u001b[33m\"\u001b[39m),\n\u001b[32m     25\u001b[39m             standardize(pl.col(\u001b[33m\"\u001b[39m\u001b[33mFare\u001b[39m\u001b[33m\"\u001b[39m)).alias(\u001b[33m\"\u001b[39m\u001b[33mFare\u001b[39m\u001b[33m\"\u001b[39m)\n\u001b[32m     26\u001b[39m         ]\n\u001b[32m     27\u001b[39m     )\n\u001b[32m     28\u001b[39m     \u001b[38;5;28;01mreturn\u001b[39;00m df\n",
      "\u001b[31mNameError\u001b[39m: name 'false' is not defined"
     ]
    }
   ],
   "source": [
    "df = preprocessing(df)\n",
    "df_kaggle = preprocessing(df_kaggle)\n",
    "\n",
    "df.head()\n",
    "df_kaggle.head()"
   ]
  },
  {
   "cell_type": "code",
   "execution_count": null,
   "id": "e5a46083",
   "metadata": {},
   "outputs": [],
   "source": [
    "df.write_csv(\"../Data/Titanic/baseDataframe.csv\")\n",
    "df_kaggle.write_csv(\"../Data/Titanic/baseDataframeSolution.csv\")"
   ]
  }
 ],
 "metadata": {
  "kernelspec": {
   "display_name": "kaggle",
   "language": "python",
   "name": "python3"
  },
  "language_info": {
   "codemirror_mode": {
    "name": "ipython",
    "version": 3
   },
   "file_extension": ".py",
   "mimetype": "text/x-python",
   "name": "python",
   "nbconvert_exporter": "python",
   "pygments_lexer": "ipython3",
   "version": "3.13.2"
  }
 },
 "nbformat": 4,
 "nbformat_minor": 5
}
