{
 "cells": [
  {
   "cell_type": "code",
   "execution_count": 1,
   "id": "46c5d134",
   "metadata": {},
   "outputs": [],
   "source": [
    "import polars as pl\n",
    "import os \n",
    "from joblib import load\n",
    "\n",
    "df = pl.read_csv(\"../Data/Titanic/test.csv\")"
   ]
  },
  {
   "cell_type": "code",
   "execution_count": 2,
   "id": "54245748",
   "metadata": {},
   "outputs": [
    {
     "data": {
      "text/html": [
       "<div><style>\n",
       ".dataframe > thead > tr,\n",
       ".dataframe > tbody > tr {\n",
       "  text-align: right;\n",
       "  white-space: pre-wrap;\n",
       "}\n",
       "</style>\n",
       "<small>shape: (5, 9)</small><table border=\"1\" class=\"dataframe\"><thead><tr><th>PassengerId</th><th>Pclass</th><th>Sex_female</th><th>Age</th><th>SibSp</th><th>Parch</th><th>Fare</th><th>Embarked_C</th><th>Embarked_Q</th></tr><tr><td>i64</td><td>i64</td><td>u8</td><td>f64</td><td>i64</td><td>i64</td><td>f64</td><td>u8</td><td>u8</td></tr></thead><tbody><tr><td>892</td><td>3</td><td>0</td><td>0.385769</td><td>0</td><td>0</td><td>-0.865993</td><td>0</td><td>1</td></tr><tr><td>893</td><td>3</td><td>1</td><td>1.369729</td><td>1</td><td>0</td><td>-0.967989</td><td>0</td><td>0</td></tr><tr><td>894</td><td>2</td><td>0</td><td>2.550481</td><td>0</td><td>0</td><td>-0.668451</td><td>0</td><td>1</td></tr><tr><td>895</td><td>3</td><td>0</td><td>-0.204607</td><td>0</td><td>0</td><td>-0.772721</td><td>0</td><td>0</td></tr><tr><td>896</td><td>3</td><td>1</td><td>-0.598191</td><td>1</td><td>1</td><td>-0.443255</td><td>0</td><td>0</td></tr></tbody></table></div>"
      ],
      "text/plain": [
       "shape: (5, 9)\n",
       "┌─────────────┬────────┬────────────┬───────────┬───┬───────┬───────────┬────────────┬────────────┐\n",
       "│ PassengerId ┆ Pclass ┆ Sex_female ┆ Age       ┆ … ┆ Parch ┆ Fare      ┆ Embarked_C ┆ Embarked_Q │\n",
       "│ ---         ┆ ---    ┆ ---        ┆ ---       ┆   ┆ ---   ┆ ---       ┆ ---        ┆ ---        │\n",
       "│ i64         ┆ i64    ┆ u8         ┆ f64       ┆   ┆ i64   ┆ f64       ┆ u8         ┆ u8         │\n",
       "╞═════════════╪════════╪════════════╪═══════════╪═══╪═══════╪═══════════╪════════════╪════════════╡\n",
       "│ 892         ┆ 3      ┆ 0          ┆ 0.385769  ┆ … ┆ 0     ┆ -0.865993 ┆ 0          ┆ 1          │\n",
       "│ 893         ┆ 3      ┆ 1          ┆ 1.369729  ┆ … ┆ 0     ┆ -0.967989 ┆ 0          ┆ 0          │\n",
       "│ 894         ┆ 2      ┆ 0          ┆ 2.550481  ┆ … ┆ 0     ┆ -0.668451 ┆ 0          ┆ 1          │\n",
       "│ 895         ┆ 3      ┆ 0          ┆ -0.204607 ┆ … ┆ 0     ┆ -0.772721 ┆ 0          ┆ 0          │\n",
       "│ 896         ┆ 3      ┆ 1          ┆ -0.598191 ┆ … ┆ 1     ┆ -0.443255 ┆ 0          ┆ 0          │\n",
       "└─────────────┴────────┴────────────┴───────────┴───┴───────┴───────────┴────────────┴────────────┘"
      ]
     },
     "execution_count": 2,
     "metadata": {},
     "output_type": "execute_result"
    }
   ],
   "source": [
    "def standardize(column):\n",
    "    return (column - column.mean()) / column.std()\n",
    "\n",
    "df = df.with_columns(\n",
    "    pl.col(\"Age\").fill_null(pl.col(\"Age\").median()),\n",
    "    pl.col(\"Fare\").fill_null(pl.col(\"Fare\").median())\n",
    "    ).with_columns(\n",
    "        pl.col(\"Fare\").log1p().alias(\"Fare\"),\n",
    "        ).to_dummies([\n",
    "            \"Embarked\",\n",
    "            \"Sex\"\n",
    "        ]).drop([\n",
    "            \"Name\",\n",
    "            \"Ticket\",\n",
    "            \"Cabin\",\n",
    "            \"Embarked_S\",\n",
    "            \"Embarked_null\",\n",
    "            \"Sex_male\"\n",
    "            ],\n",
    "            strict=False\n",
    "            ).with_columns(\n",
    "                standardize(pl.col(\"Age\")).alias(\"Age\"),\n",
    "                standardize(pl.col(\"Fare\")).alias(\"Fare\")\n",
    "            )\n",
    "\n",
    "df.head()"
   ]
  },
  {
   "cell_type": "code",
   "execution_count": 3,
   "id": "16446759",
   "metadata": {},
   "outputs": [
    {
     "data": {
      "text/plain": [
       "['GradientBoostingClassifier__Pclass__Sex_female__Age__SibSp__Parch__Fare__Embarked_C__Embarked_Q.joblib',\n",
       " 'GradientBoostingClassifier__Sex_female__Embarked_C__IsChild__HasSmallFamily__PC1__PC2__PC3.joblib',\n",
       " 'GradientBoostingClassifier__Sex_female__Embarked_C__IsChild__HasSmallFamily__PC1__PC3.joblib']"
      ]
     },
     "execution_count": 3,
     "metadata": {},
     "output_type": "execute_result"
    }
   ],
   "source": [
    "os.listdir(\"../Models/Titanic\")"
   ]
  },
  {
   "cell_type": "code",
   "execution_count": 4,
   "id": "7fe44ee1",
   "metadata": {},
   "outputs": [],
   "source": [
    "files = [file for file in os.listdir(\"../Models/Titanic\")]\n",
    "model = load(f'../Models/Titanic/{files[0]}')\n",
    "\n",
    "X = df.drop(\"PassengerId\")\n",
    "index = df[\"PassengerId\"]\n",
    "predictions = model.predict(X)\n",
    "\n",
    "solution = pl.DataFrame({\n",
    "    \"PassengerId\" : index,\n",
    "    \"Survived\" : predictions\n",
    "    })\n",
    "\n",
    "solution.write_csv(\"../Data/Titanic/solution.csv\")"
   ]
  }
 ],
 "metadata": {
  "kernelspec": {
   "display_name": "Python 3",
   "language": "python",
   "name": "python3"
  },
  "language_info": {
   "codemirror_mode": {
    "name": "ipython",
    "version": 3
   },
   "file_extension": ".py",
   "mimetype": "text/x-python",
   "name": "python",
   "nbconvert_exporter": "python",
   "pygments_lexer": "ipython3",
   "version": "3.13.2"
  }
 },
 "nbformat": 4,
 "nbformat_minor": 5
}
