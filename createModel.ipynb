{
 "cells": [
  {
   "cell_type": "markdown",
   "id": "d79cf9bf",
   "metadata": {},
   "source": [
    "## Imports and data reading\n"
   ]
  },
  {
   "cell_type": "code",
   "execution_count": 48,
   "id": "00720dec",
   "metadata": {},
   "outputs": [
    {
     "data": {
      "text/html": [
       "<div><style>\n",
       ".dataframe > thead > tr,\n",
       ".dataframe > tbody > tr {\n",
       "  text-align: right;\n",
       "  white-space: pre-wrap;\n",
       "}\n",
       "</style>\n",
       "<small>shape: (5, 12)</small><table border=\"1\" class=\"dataframe\"><thead><tr><th>PassengerId</th><th>Survived</th><th>Pclass</th><th>Sex_female</th><th>Age</th><th>Fare</th><th>Embarked_C</th><th>Embarked_Q</th><th>FamilySize</th><th>IsChild</th><th>HasCabinRegistered</th><th>HasSmallFamily</th></tr><tr><td>i64</td><td>i64</td><td>i64</td><td>i64</td><td>f64</td><td>f64</td><td>i64</td><td>i64</td><td>i64</td><td>i64</td><td>i64</td><td>i64</td></tr></thead><tbody><tr><td>1</td><td>0</td><td>3</td><td>0</td><td>-0.565419</td><td>-0.879247</td><td>0</td><td>0</td><td>2</td><td>0</td><td>0</td><td>1</td></tr><tr><td>2</td><td>1</td><td>1</td><td>1</td><td>0.663488</td><td>1.360456</td><td>1</td><td>0</td><td>2</td><td>0</td><td>1</td><td>1</td></tr><tr><td>3</td><td>1</td><td>3</td><td>1</td><td>-0.258192</td><td>-0.798092</td><td>0</td><td>0</td><td>1</td><td>0</td><td>0</td><td>0</td></tr><tr><td>4</td><td>1</td><td>1</td><td>1</td><td>0.433068</td><td>1.061442</td><td>0</td><td>0</td><td>2</td><td>0</td><td>1</td><td>1</td></tr><tr><td>5</td><td>0</td><td>3</td><td>0</td><td>0.433068</td><td>-0.783739</td><td>0</td><td>0</td><td>1</td><td>0</td><td>0</td><td>0</td></tr></tbody></table></div>"
      ],
      "text/plain": [
       "shape: (5, 12)\n",
       "┌────────────┬──────────┬────────┬────────────┬───┬────────────┬─────────┬────────────┬────────────┐\n",
       "│ PassengerI ┆ Survived ┆ Pclass ┆ Sex_female ┆ … ┆ FamilySize ┆ IsChild ┆ HasCabinRe ┆ HasSmallFa │\n",
       "│ d          ┆ ---      ┆ ---    ┆ ---        ┆   ┆ ---        ┆ ---     ┆ gistered   ┆ mily       │\n",
       "│ ---        ┆ i64      ┆ i64    ┆ i64        ┆   ┆ i64        ┆ i64     ┆ ---        ┆ ---        │\n",
       "│ i64        ┆          ┆        ┆            ┆   ┆            ┆         ┆ i64        ┆ i64        │\n",
       "╞════════════╪══════════╪════════╪════════════╪═══╪════════════╪═════════╪════════════╪════════════╡\n",
       "│ 1          ┆ 0        ┆ 3      ┆ 0          ┆ … ┆ 2          ┆ 0       ┆ 0          ┆ 1          │\n",
       "│ 2          ┆ 1        ┆ 1      ┆ 1          ┆ … ┆ 2          ┆ 0       ┆ 1          ┆ 1          │\n",
       "│ 3          ┆ 1        ┆ 3      ┆ 1          ┆ … ┆ 1          ┆ 0       ┆ 0          ┆ 0          │\n",
       "│ 4          ┆ 1        ┆ 1      ┆ 1          ┆ … ┆ 2          ┆ 0       ┆ 1          ┆ 1          │\n",
       "│ 5          ┆ 0        ┆ 3      ┆ 0          ┆ … ┆ 1          ┆ 0       ┆ 0          ┆ 0          │\n",
       "└────────────┴──────────┴────────┴────────────┴───┴────────────┴─────────┴────────────┴────────────┘"
      ]
     },
     "execution_count": 48,
     "metadata": {},
     "output_type": "execute_result"
    }
   ],
   "source": [
    "from sklearn.model_selection import train_test_split, GridSearchCV\n",
    "from sklearn.ensemble import RandomForestClassifier, GradientBoostingClassifier\n",
    "from sklearn.linear_model import LogisticRegression\n",
    "from sklearn.svm import SVC\n",
    "from sklearn.metrics import accuracy_score\n",
    "\n",
    "import numpy as np\n",
    "\n",
    "import polars as pl\n",
    "\n",
    "df = pl.read_csv(\"../Data/Titanic/advancedTrain.csv\")\n",
    "\n",
    "df.head()"
   ]
  },
  {
   "cell_type": "markdown",
   "id": "a950d988",
   "metadata": {},
   "source": [
    "## Splitting data\n"
   ]
  },
  {
   "cell_type": "code",
   "execution_count": 49,
   "id": "abe697ef",
   "metadata": {},
   "outputs": [],
   "source": [
    "X, y = df.drop(\"Survived\", \"PassengerId\"), df[\"Survived\"] \n",
    "X_train, X_test, y_train, y_test = train_test_split(X, y, test_size=0.2, random_state=42)"
   ]
  },
  {
   "cell_type": "markdown",
   "id": "fa2ba53c",
   "metadata": {},
   "source": [
    "## Models\n"
   ]
  },
  {
   "cell_type": "code",
   "execution_count": 50,
   "id": "6a16b8ac",
   "metadata": {},
   "outputs": [],
   "source": [
    "models = {\n",
    "    'RandomForest': {\n",
    "        'model': RandomForestClassifier(random_state=42),\n",
    "        'params': {\n",
    "            'n_estimators': np.arange(1, 100),\n",
    "            'max_depth': np.arange(1, 10)\n",
    "        }\n",
    "    },\n",
    "    'LogisticRegression': {\n",
    "        'model': LogisticRegression(random_state=42, max_iter=1000),\n",
    "        'params': {\n",
    "            'C': np.arange(1, 10, 0.1),\n",
    "            'penalty': ['l2']\n",
    "        }\n",
    "    },\n",
    "    'SVM': {\n",
    "        'model': SVC(random_state=42),\n",
    "        'params': {\n",
    "            'C': np.arange(1, 10, 0.1),\n",
    "            'kernel': ['rbf', 'linear']\n",
    "        }\n",
    "    },\n",
    "    'GradientBoosting': {\n",
    "        'model': GradientBoostingClassifier(random_state=42),\n",
    "        'params': {\n",
    "            'n_estimators': np.arange(1, 100),\n",
    "            'learning_rate': np.arange(1, 10)\n",
    "        }\n",
    "    }\n",
    "}"
   ]
  },
  {
   "cell_type": "markdown",
   "id": "16ebd0ee",
   "metadata": {},
   "source": [
    "## Gridsearch\n"
   ]
  },
  {
   "cell_type": "code",
   "execution_count": 51,
   "id": "d8274363",
   "metadata": {},
   "outputs": [
    {
     "name": "stdout",
     "output_type": "stream",
     "text": [
      "Training RandomForest...\n",
      "Training LogisticRegression...\n",
      "Training SVM...\n",
      "Training GradientBoosting...\n"
     ]
    }
   ],
   "source": [
    "results = {}\n",
    "for model_key, model_values in models.items():\n",
    "    print(f\"Training {model_key}...\")\n",
    "\n",
    "    grid_search = GridSearchCV(\n",
    "        estimator=model_values[\"model\"],\n",
    "        param_grid=model_values[\"params\"],\n",
    "        cv=5,\n",
    "        scoring=\"accuracy\",\n",
    "        n_jobs=-1\n",
    "    )\n",
    "\n",
    "    grid_search.fit(X_train, y_train)\n",
    "    y_pred = grid_search.predict(X_test)\n",
    "    accuracy = accuracy_score(y_test, y_pred)\n",
    "\n",
    "    results[model_key] = {\n",
    "        \"best_params\": grid_search.best_params_,\n",
    "        \"cv_score\": grid_search.best_score_,\n",
    "        \"test_score\": accuracy\n",
    "    }\n"
   ]
  },
  {
   "cell_type": "code",
   "execution_count": 52,
   "id": "897c73d6",
   "metadata": {},
   "outputs": [
    {
     "data": {
      "text/plain": [
       "'RandomForest'"
      ]
     },
     "metadata": {},
     "output_type": "display_data"
    },
    {
     "data": {
      "text/plain": [
       "{'best_params': {'max_depth': np.int64(5), 'n_estimators': np.int64(70)},\n",
       " 'cv_score': np.float64(0.8412685905643652),\n",
       " 'test_score': 0.8212290502793296}"
      ]
     },
     "metadata": {},
     "output_type": "display_data"
    },
    {
     "data": {
      "text/plain": [
       "'LogisticRegression'"
      ]
     },
     "metadata": {},
     "output_type": "display_data"
    },
    {
     "data": {
      "text/plain": [
       "{'best_params': {'C': np.float64(5.200000000000004), 'penalty': 'l2'},\n",
       " 'cv_score': np.float64(0.8089333202009259),\n",
       " 'test_score': 0.8156424581005587}"
      ]
     },
     "metadata": {},
     "output_type": "display_data"
    },
    {
     "data": {
      "text/plain": [
       "'SVM'"
      ]
     },
     "metadata": {},
     "output_type": "display_data"
    },
    {
     "data": {
      "text/plain": [
       "{'best_params': {'C': np.float64(1.0), 'kernel': 'rbf'},\n",
       " 'cv_score': np.float64(0.8300009849305624),\n",
       " 'test_score': 0.8156424581005587}"
      ]
     },
     "metadata": {},
     "output_type": "display_data"
    },
    {
     "data": {
      "text/plain": [
       "'GradientBoosting'"
      ]
     },
     "metadata": {},
     "output_type": "display_data"
    },
    {
     "data": {
      "text/plain": [
       "{'best_params': {'learning_rate': np.int64(3), 'n_estimators': np.int64(1)},\n",
       " 'cv_score': np.float64(0.8188023244361273),\n",
       " 'test_score': 0.7988826815642458}"
      ]
     },
     "metadata": {},
     "output_type": "display_data"
    }
   ],
   "source": [
    "for key, value in results.items():\n",
    "    display(key, value)"
   ]
  },
  {
   "cell_type": "code",
   "execution_count": 53,
   "id": "2713ea33",
   "metadata": {},
   "outputs": [
    {
     "data": {
      "text/plain": [
       "['../Models/Titanic/GradientBoostingClassifier__Pclass__Sex_female__Age__Fare__Embarked_C__Embarked_Q__FamilySize__IsChild__HasCabinRegistered__HasSmallFamily.joblib']"
      ]
     },
     "execution_count": 53,
     "metadata": {},
     "output_type": "execute_result"
    }
   ],
   "source": [
    "from joblib import dump\n",
    "\n",
    "model = grid_search.best_estimator_\n",
    "filename = f'{type(model).__name__}__{\"__\".join([(str(feature)) for feature in model.feature_names_in_])}.joblib'\n",
    "dump(model, f'../Models/Titanic/{filename}')"
   ]
  }
 ],
 "metadata": {
  "kernelspec": {
   "display_name": "Python 3",
   "language": "python",
   "name": "python3"
  },
  "language_info": {
   "codemirror_mode": {
    "name": "ipython",
    "version": 3
   },
   "file_extension": ".py",
   "mimetype": "text/x-python",
   "name": "python",
   "nbconvert_exporter": "python",
   "pygments_lexer": "ipython3",
   "version": "3.13.2"
  }
 },
 "nbformat": 4,
 "nbformat_minor": 5
}
