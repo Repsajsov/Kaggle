{
 "cells": [
  {
   "cell_type": "code",
   "execution_count": null,
   "id": "c3bed248",
   "metadata": {},
   "outputs": [],
   "source": [
    "import polars as pl\n",
    "import seaborn as sns\n",
    "\n",
    "pl.Config(tbl_rows=20, tbl_cols=1000)\n",
    "\n",
    "df = pl.read_csv(\"../../Data/Titanic/train.csv\")"
   ]
  },
  {
   "cell_type": "code",
   "execution_count": 322,
   "id": "ced33517",
   "metadata": {},
   "outputs": [
    {
     "data": {
      "text/html": [
       "<div><style>\n",
       ".dataframe > thead > tr,\n",
       ".dataframe > tbody > tr {\n",
       "  text-align: right;\n",
       "  white-space: pre-wrap;\n",
       "}\n",
       "</style>\n",
       "<small>shape: (5, 12)</small><table border=\"1\" class=\"dataframe\"><thead><tr><th>PassengerId</th><th>Survived</th><th>Pclass</th><th>Name</th><th>Sex</th><th>Age</th><th>SibSp</th><th>Parch</th><th>Ticket</th><th>Fare</th><th>Cabin</th><th>Embarked</th></tr><tr><td>i64</td><td>i64</td><td>i64</td><td>str</td><td>str</td><td>f64</td><td>i64</td><td>i64</td><td>str</td><td>f64</td><td>str</td><td>str</td></tr></thead><tbody><tr><td>1</td><td>0</td><td>3</td><td>&quot;Braund, Mr. Owen Harris&quot;</td><td>&quot;male&quot;</td><td>22.0</td><td>1</td><td>0</td><td>&quot;A/5 21171&quot;</td><td>7.25</td><td>null</td><td>&quot;S&quot;</td></tr><tr><td>2</td><td>1</td><td>1</td><td>&quot;Cumings, Mrs. John Bradley (Fl…</td><td>&quot;female&quot;</td><td>38.0</td><td>1</td><td>0</td><td>&quot;PC 17599&quot;</td><td>71.2833</td><td>&quot;C85&quot;</td><td>&quot;C&quot;</td></tr><tr><td>3</td><td>1</td><td>3</td><td>&quot;Heikkinen, Miss. Laina&quot;</td><td>&quot;female&quot;</td><td>26.0</td><td>0</td><td>0</td><td>&quot;STON/O2. 3101282&quot;</td><td>7.925</td><td>null</td><td>&quot;S&quot;</td></tr><tr><td>4</td><td>1</td><td>1</td><td>&quot;Futrelle, Mrs. Jacques Heath (…</td><td>&quot;female&quot;</td><td>35.0</td><td>1</td><td>0</td><td>&quot;113803&quot;</td><td>53.1</td><td>&quot;C123&quot;</td><td>&quot;S&quot;</td></tr><tr><td>5</td><td>0</td><td>3</td><td>&quot;Allen, Mr. William Henry&quot;</td><td>&quot;male&quot;</td><td>35.0</td><td>0</td><td>0</td><td>&quot;373450&quot;</td><td>8.05</td><td>null</td><td>&quot;S&quot;</td></tr></tbody></table></div>"
      ],
      "text/plain": [
       "shape: (5, 12)\n",
       "┌────────┬────────┬────────┬────────┬───────┬──────┬───────┬───────┬───────┬───────┬───────┬───────┐\n",
       "│ Passen ┆ Surviv ┆ Pclass ┆ Name   ┆ Sex   ┆ Age  ┆ SibSp ┆ Parch ┆ Ticke ┆ Fare  ┆ Cabin ┆ Embar │\n",
       "│ gerId  ┆ ed     ┆ ---    ┆ ---    ┆ ---   ┆ ---  ┆ ---   ┆ ---   ┆ t     ┆ ---   ┆ ---   ┆ ked   │\n",
       "│ ---    ┆ ---    ┆ i64    ┆ str    ┆ str   ┆ f64  ┆ i64   ┆ i64   ┆ ---   ┆ f64   ┆ str   ┆ ---   │\n",
       "│ i64    ┆ i64    ┆        ┆        ┆       ┆      ┆       ┆       ┆ str   ┆       ┆       ┆ str   │\n",
       "╞════════╪════════╪════════╪════════╪═══════╪══════╪═══════╪═══════╪═══════╪═══════╪═══════╪═══════╡\n",
       "│ 1      ┆ 0      ┆ 3      ┆ Braund ┆ male  ┆ 22.0 ┆ 1     ┆ 0     ┆ A/5   ┆ 7.25  ┆ null  ┆ S     │\n",
       "│        ┆        ┆        ┆ , Mr.  ┆       ┆      ┆       ┆       ┆ 21171 ┆       ┆       ┆       │\n",
       "│        ┆        ┆        ┆ Owen   ┆       ┆      ┆       ┆       ┆       ┆       ┆       ┆       │\n",
       "│        ┆        ┆        ┆ Harris ┆       ┆      ┆       ┆       ┆       ┆       ┆       ┆       │\n",
       "│ 2      ┆ 1      ┆ 1      ┆ Cuming ┆ femal ┆ 38.0 ┆ 1     ┆ 0     ┆ PC    ┆ 71.28 ┆ C85   ┆ C     │\n",
       "│        ┆        ┆        ┆ s,     ┆ e     ┆      ┆       ┆       ┆ 17599 ┆ 33    ┆       ┆       │\n",
       "│        ┆        ┆        ┆ Mrs.   ┆       ┆      ┆       ┆       ┆       ┆       ┆       ┆       │\n",
       "│        ┆        ┆        ┆ John   ┆       ┆      ┆       ┆       ┆       ┆       ┆       ┆       │\n",
       "│        ┆        ┆        ┆ Bradle ┆       ┆      ┆       ┆       ┆       ┆       ┆       ┆       │\n",
       "│        ┆        ┆        ┆ y (Fl… ┆       ┆      ┆       ┆       ┆       ┆       ┆       ┆       │\n",
       "│ 3      ┆ 1      ┆ 3      ┆ Heikki ┆ femal ┆ 26.0 ┆ 0     ┆ 0     ┆ STON/ ┆ 7.925 ┆ null  ┆ S     │\n",
       "│        ┆        ┆        ┆ nen,   ┆ e     ┆      ┆       ┆       ┆ O2.   ┆       ┆       ┆       │\n",
       "│        ┆        ┆        ┆ Miss.  ┆       ┆      ┆       ┆       ┆ 31012 ┆       ┆       ┆       │\n",
       "│        ┆        ┆        ┆ Laina  ┆       ┆      ┆       ┆       ┆ 82    ┆       ┆       ┆       │\n",
       "│ 4      ┆ 1      ┆ 1      ┆ Futrel ┆ femal ┆ 35.0 ┆ 1     ┆ 0     ┆ 11380 ┆ 53.1  ┆ C123  ┆ S     │\n",
       "│        ┆        ┆        ┆ le,    ┆ e     ┆      ┆       ┆       ┆ 3     ┆       ┆       ┆       │\n",
       "│        ┆        ┆        ┆ Mrs.   ┆       ┆      ┆       ┆       ┆       ┆       ┆       ┆       │\n",
       "│        ┆        ┆        ┆ Jacque ┆       ┆      ┆       ┆       ┆       ┆       ┆       ┆       │\n",
       "│        ┆        ┆        ┆ s      ┆       ┆      ┆       ┆       ┆       ┆       ┆       ┆       │\n",
       "│        ┆        ┆        ┆ Heath  ┆       ┆      ┆       ┆       ┆       ┆       ┆       ┆       │\n",
       "│        ┆        ┆        ┆ (…     ┆       ┆      ┆       ┆       ┆       ┆       ┆       ┆       │\n",
       "│ 5      ┆ 0      ┆ 3      ┆ Allen, ┆ male  ┆ 35.0 ┆ 0     ┆ 0     ┆ 37345 ┆ 8.05  ┆ null  ┆ S     │\n",
       "│        ┆        ┆        ┆ Mr.    ┆       ┆      ┆       ┆       ┆ 0     ┆       ┆       ┆       │\n",
       "│        ┆        ┆        ┆ Willia ┆       ┆      ┆       ┆       ┆       ┆       ┆       ┆       │\n",
       "│        ┆        ┆        ┆ m      ┆       ┆      ┆       ┆       ┆       ┆       ┆       ┆       │\n",
       "│        ┆        ┆        ┆ Henry  ┆       ┆      ┆       ┆       ┆       ┆       ┆       ┆       │\n",
       "└────────┴────────┴────────┴────────┴───────┴──────┴───────┴───────┴───────┴───────┴───────┴───────┘"
      ]
     },
     "execution_count": 322,
     "metadata": {},
     "output_type": "execute_result"
    }
   ],
   "source": [
    "df.head()"
   ]
  },
  {
   "cell_type": "code",
   "execution_count": 323,
   "id": "d7d217b2",
   "metadata": {},
   "outputs": [
    {
     "data": {
      "text/html": [
       "<div><style>\n",
       ".dataframe > thead > tr,\n",
       ".dataframe > tbody > tr {\n",
       "  text-align: right;\n",
       "  white-space: pre-wrap;\n",
       "}\n",
       "</style>\n",
       "<small>shape: (5, 23)</small><table border=\"1\" class=\"dataframe\"><thead><tr><th>Survived</th><th>Pclass</th><th>Sex</th><th>Age</th><th>SibSp</th><th>Parch</th><th>Fare</th><th>Embarked_C</th><th>Embarked_Q</th><th>Title</th><th>HasCabinRegistered</th><th>FamilySize</th><th>Deck_A</th><th>Deck_B</th><th>Deck_C</th><th>Deck_D</th><th>Deck_E</th><th>Deck_F</th><th>Deck_G</th><th>Deck_T</th><th>AgeGroupQuantiles</th><th>FareGroupQuantiles</th><th>HasTitle</th></tr><tr><td>i64</td><td>i64</td><td>i32</td><td>f64</td><td>i64</td><td>i64</td><td>f64</td><td>u8</td><td>u8</td><td>str</td><td>i32</td><td>i64</td><td>u8</td><td>u8</td><td>u8</td><td>u8</td><td>u8</td><td>u8</td><td>u8</td><td>u8</td><td>i32</td><td>i32</td><td>i32</td></tr></thead><tbody><tr><td>0</td><td>3</td><td>1</td><td>22.0</td><td>1</td><td>0</td><td>7.25</td><td>0</td><td>0</td><td>&quot;Mr&quot;</td><td>0</td><td>1</td><td>0</td><td>0</td><td>0</td><td>0</td><td>0</td><td>0</td><td>0</td><td>0</td><td>2</td><td>1</td><td>0</td></tr><tr><td>1</td><td>1</td><td>0</td><td>38.0</td><td>1</td><td>0</td><td>71.2833</td><td>1</td><td>0</td><td>&quot;Mrs&quot;</td><td>1</td><td>1</td><td>0</td><td>0</td><td>1</td><td>0</td><td>0</td><td>0</td><td>0</td><td>0</td><td>4</td><td>4</td><td>0</td></tr><tr><td>1</td><td>3</td><td>0</td><td>26.0</td><td>0</td><td>0</td><td>7.925</td><td>0</td><td>0</td><td>&quot;Miss&quot;</td><td>0</td><td>0</td><td>0</td><td>0</td><td>0</td><td>0</td><td>0</td><td>0</td><td>0</td><td>0</td><td>3</td><td>2</td><td>0</td></tr><tr><td>1</td><td>1</td><td>0</td><td>35.0</td><td>1</td><td>0</td><td>53.1</td><td>0</td><td>0</td><td>&quot;Mrs&quot;</td><td>1</td><td>1</td><td>0</td><td>0</td><td>1</td><td>0</td><td>0</td><td>0</td><td>0</td><td>0</td><td>3</td><td>4</td><td>0</td></tr><tr><td>0</td><td>3</td><td>1</td><td>35.0</td><td>0</td><td>0</td><td>8.05</td><td>0</td><td>0</td><td>&quot;Mr&quot;</td><td>0</td><td>0</td><td>0</td><td>0</td><td>0</td><td>0</td><td>0</td><td>0</td><td>0</td><td>0</td><td>3</td><td>2</td><td>0</td></tr></tbody></table></div>"
      ],
      "text/plain": [
       "shape: (5, 23)\n",
       "┌─────┬─────┬─────┬─────┬─────┬─────┬─────┬─────┬─────┬─────┬─────┬─────┬─────┬─────┬─────┬─────┬─────┬─────┬─────┬─────┬─────┬─────┬─────┐\n",
       "│ Sur ┆ Pcl ┆ Sex ┆ Age ┆ Sib ┆ Par ┆ Far ┆ Emb ┆ Emb ┆ Tit ┆ Has ┆ Fam ┆ Dec ┆ Dec ┆ Dec ┆ Dec ┆ Dec ┆ Dec ┆ Dec ┆ Dec ┆ Age ┆ Far ┆ Has │\n",
       "│ viv ┆ ass ┆ --- ┆ --- ┆ Sp  ┆ ch  ┆ e   ┆ ark ┆ ark ┆ le  ┆ Cab ┆ ily ┆ k_A ┆ k_B ┆ k_C ┆ k_D ┆ k_E ┆ k_F ┆ k_G ┆ k_T ┆ Gro ┆ eGr ┆ Tit │\n",
       "│ ed  ┆ --- ┆ i32 ┆ f64 ┆ --- ┆ --- ┆ --- ┆ ed_ ┆ ed_ ┆ --- ┆ inR ┆ Siz ┆ --- ┆ --- ┆ --- ┆ --- ┆ --- ┆ --- ┆ --- ┆ --- ┆ upQ ┆ oup ┆ le  │\n",
       "│ --- ┆ i64 ┆     ┆     ┆ i64 ┆ i64 ┆ f64 ┆ C   ┆ Q   ┆ str ┆ egi ┆ e   ┆ u8  ┆ u8  ┆ u8  ┆ u8  ┆ u8  ┆ u8  ┆ u8  ┆ u8  ┆ uan ┆ Qua ┆ --- │\n",
       "│ i64 ┆     ┆     ┆     ┆     ┆     ┆     ┆ --- ┆ --- ┆     ┆ ste ┆ --- ┆     ┆     ┆     ┆     ┆     ┆     ┆     ┆     ┆ til ┆ nti ┆ i32 │\n",
       "│     ┆     ┆     ┆     ┆     ┆     ┆     ┆ u8  ┆ u8  ┆     ┆ red ┆ i64 ┆     ┆     ┆     ┆     ┆     ┆     ┆     ┆     ┆ es  ┆ les ┆     │\n",
       "│     ┆     ┆     ┆     ┆     ┆     ┆     ┆     ┆     ┆     ┆ --- ┆     ┆     ┆     ┆     ┆     ┆     ┆     ┆     ┆     ┆ --- ┆ --- ┆     │\n",
       "│     ┆     ┆     ┆     ┆     ┆     ┆     ┆     ┆     ┆     ┆ i32 ┆     ┆     ┆     ┆     ┆     ┆     ┆     ┆     ┆     ┆ i32 ┆ i32 ┆     │\n",
       "╞═════╪═════╪═════╪═════╪═════╪═════╪═════╪═════╪═════╪═════╪═════╪═════╪═════╪═════╪═════╪═════╪═════╪═════╪═════╪═════╪═════╪═════╪═════╡\n",
       "│ 0   ┆ 3   ┆ 1   ┆ 22. ┆ 1   ┆ 0   ┆ 7.2 ┆ 0   ┆ 0   ┆ Mr  ┆ 0   ┆ 1   ┆ 0   ┆ 0   ┆ 0   ┆ 0   ┆ 0   ┆ 0   ┆ 0   ┆ 0   ┆ 2   ┆ 1   ┆ 0   │\n",
       "│     ┆     ┆     ┆ 0   ┆     ┆     ┆ 5   ┆     ┆     ┆     ┆     ┆     ┆     ┆     ┆     ┆     ┆     ┆     ┆     ┆     ┆     ┆     ┆     │\n",
       "│ 1   ┆ 1   ┆ 0   ┆ 38. ┆ 1   ┆ 0   ┆ 71. ┆ 1   ┆ 0   ┆ Mrs ┆ 1   ┆ 1   ┆ 0   ┆ 0   ┆ 1   ┆ 0   ┆ 0   ┆ 0   ┆ 0   ┆ 0   ┆ 4   ┆ 4   ┆ 0   │\n",
       "│     ┆     ┆     ┆ 0   ┆     ┆     ┆ 283 ┆     ┆     ┆     ┆     ┆     ┆     ┆     ┆     ┆     ┆     ┆     ┆     ┆     ┆     ┆     ┆     │\n",
       "│     ┆     ┆     ┆     ┆     ┆     ┆ 3   ┆     ┆     ┆     ┆     ┆     ┆     ┆     ┆     ┆     ┆     ┆     ┆     ┆     ┆     ┆     ┆     │\n",
       "│ 1   ┆ 3   ┆ 0   ┆ 26. ┆ 0   ┆ 0   ┆ 7.9 ┆ 0   ┆ 0   ┆ Mis ┆ 0   ┆ 0   ┆ 0   ┆ 0   ┆ 0   ┆ 0   ┆ 0   ┆ 0   ┆ 0   ┆ 0   ┆ 3   ┆ 2   ┆ 0   │\n",
       "│     ┆     ┆     ┆ 0   ┆     ┆     ┆ 25  ┆     ┆     ┆ s   ┆     ┆     ┆     ┆     ┆     ┆     ┆     ┆     ┆     ┆     ┆     ┆     ┆     │\n",
       "│ 1   ┆ 1   ┆ 0   ┆ 35. ┆ 1   ┆ 0   ┆ 53. ┆ 0   ┆ 0   ┆ Mrs ┆ 1   ┆ 1   ┆ 0   ┆ 0   ┆ 1   ┆ 0   ┆ 0   ┆ 0   ┆ 0   ┆ 0   ┆ 3   ┆ 4   ┆ 0   │\n",
       "│     ┆     ┆     ┆ 0   ┆     ┆     ┆ 1   ┆     ┆     ┆     ┆     ┆     ┆     ┆     ┆     ┆     ┆     ┆     ┆     ┆     ┆     ┆     ┆     │\n",
       "│ 0   ┆ 3   ┆ 1   ┆ 35. ┆ 0   ┆ 0   ┆ 8.0 ┆ 0   ┆ 0   ┆ Mr  ┆ 0   ┆ 0   ┆ 0   ┆ 0   ┆ 0   ┆ 0   ┆ 0   ┆ 0   ┆ 0   ┆ 0   ┆ 3   ┆ 2   ┆ 0   │\n",
       "│     ┆     ┆     ┆ 0   ┆     ┆     ┆ 5   ┆     ┆     ┆     ┆     ┆     ┆     ┆     ┆     ┆     ┆     ┆     ┆     ┆     ┆     ┆     ┆     │\n",
       "└─────┴─────┴─────┴─────┴─────┴─────┴─────┴─────┴─────┴─────┴─────┴─────┴─────┴─────┴─────┴─────┴─────┴─────┴─────┴─────┴─────┴─────┴─────┘"
      ]
     },
     "execution_count": 323,
     "metadata": {},
     "output_type": "execute_result"
    }
   ],
   "source": [
    "def standardize(column):\n",
    "    return (column - column.mean()) / column.std()\n",
    "\n",
    "# Cleaning columns\n",
    "df = df.with_columns(\n",
    "    [\n",
    "        pl.when(pl.col(\"Sex\")==\"male\").then(pl.lit(1)).otherwise(pl.lit(0)).alias(\"Sex\"),\n",
    "        pl.col(\"Age\").fill_null(pl.col(\"Age\").median().over(\"Pclass\")),\n",
    "    ]\n",
    ")\n",
    "\n",
    "# Feature engineering\n",
    "df = df.with_columns(\n",
    "    [\n",
    "        pl.col(\"Name\").str.extract(r\", (.*?)\\.\").alias(\"Title\"),\n",
    "        pl.when(pl.col(\"Cabin\").is_not_null()).then(1).otherwise(0).alias(\"HasCabinRegistered\"),\n",
    "        (pl.col(\"SibSp\") + pl.col(\"Parch\")).alias(\"FamilySize\"),\n",
    "        pl.col(\"Cabin\").str.extract(\"^([A-Za-z]){1}\").alias(\"Deck\"),\n",
    "        pl.col(\"Cabin\").str.extract(\"^.([0-9]+)\").cast(pl.Int64).alias(\"RoomNumber\"),\n",
    "    ]\n",
    ")\n",
    "\n",
    "# Bin Features with quantiles\n",
    "df = df.with_columns(\n",
    "    [\n",
    "        pl.when(pl.col(\"Age\") < pl.col(\"Age\").quantile(.25)).then(pl.lit(1))\n",
    "        .when(pl.col(\"Age\") < pl.col(\"Age\").quantile(.50)).then(pl.lit(2))\n",
    "        .when(pl.col(\"Age\") < pl.col(\"Age\").quantile(.75)).then(pl.lit(3))\n",
    "        .otherwise(4)\n",
    "        .alias(\"AgeGroupQuantiles\"),\n",
    "        pl.when(pl.col(\"Fare\") < pl.col(\"Fare\").quantile(.25)).then(1)\n",
    "        .when(pl.col(\"Fare\") < pl.col(\"Fare\").quantile(.50)).then(2)\n",
    "        .when(pl.col(\"Fare\") < pl.col(\"Fare\").quantile(.75)).then(3)\n",
    "        .otherwise(4).alias(\"FareGroupQuantiles\")\n",
    "    ]\n",
    ")\n",
    "\n",
    "# Bin Featuers with domain knowledge\n",
    "\n",
    "# Second order Feature engineering\n",
    "df = df.with_columns(\n",
    "        pl.when(pl.col(\"Title\").is_in([\"Jonkheer\", \"the Countess\", \"Lady\", \"Sir\", \"Don\", \"Master\", \"Major\", \"Capt\", \"Rev\", \"Dr\", \"Col\"]))\n",
    "        .then(pl.lit(1))\n",
    "        .otherwise(pl.lit(0))\n",
    "        .alias(\"HasTitle\"),\n",
    ")\n",
    "\n",
    "# Dummy Features\n",
    "df = df.to_dummies(\n",
    "    [\n",
    "        \"Embarked\", \n",
    "        \"Deck\"\n",
    "    ],\n",
    "    drop_first=True\n",
    ")\n",
    "\n",
    "# Drop Features\n",
    "df = df.drop(\n",
    "    \"Name\",\n",
    "    \"Ticket\",\n",
    "    \"PassengerId\",\n",
    "    \"Embarked_null\",\n",
    "    \"Cabin\",\n",
    "    \"RoomNumber\"\n",
    ")\n",
    "\n",
    "# Third order Feature engineering\n",
    "# df = df.with_columns(\n",
    "\n",
    "# )\n",
    "\n",
    "df.head()"
   ]
  },
  {
   "cell_type": "code",
   "execution_count": 324,
   "id": "22cb6093",
   "metadata": {},
   "outputs": [
    {
     "data": {
      "text/html": [
       "<div><style>\n",
       ".dataframe > thead > tr,\n",
       ".dataframe > tbody > tr {\n",
       "  text-align: right;\n",
       "  white-space: pre-wrap;\n",
       "}\n",
       "</style>\n",
       "<small>shape: (5, 23)</small><table border=\"1\" class=\"dataframe\"><thead><tr><th>Survived</th><th>Pclass</th><th>Sex</th><th>Age</th><th>SibSp</th><th>Parch</th><th>Fare</th><th>Embarked_C</th><th>Embarked_Q</th><th>Title</th><th>HasCabinRegistered</th><th>FamilySize</th><th>Deck_A</th><th>Deck_B</th><th>Deck_C</th><th>Deck_D</th><th>Deck_E</th><th>Deck_F</th><th>Deck_G</th><th>Deck_T</th><th>AgeGroupQuantiles</th><th>FareGroupQuantiles</th><th>HasTitle</th></tr><tr><td>i64</td><td>i64</td><td>i32</td><td>f64</td><td>i64</td><td>i64</td><td>f64</td><td>u8</td><td>u8</td><td>str</td><td>i32</td><td>i64</td><td>u8</td><td>u8</td><td>u8</td><td>u8</td><td>u8</td><td>u8</td><td>u8</td><td>u8</td><td>i32</td><td>i32</td><td>i32</td></tr></thead><tbody><tr><td>0</td><td>3</td><td>1</td><td>22.0</td><td>1</td><td>0</td><td>7.25</td><td>0</td><td>0</td><td>&quot;Mr&quot;</td><td>0</td><td>1</td><td>0</td><td>0</td><td>0</td><td>0</td><td>0</td><td>0</td><td>0</td><td>0</td><td>2</td><td>1</td><td>0</td></tr><tr><td>1</td><td>1</td><td>0</td><td>38.0</td><td>1</td><td>0</td><td>71.2833</td><td>1</td><td>0</td><td>&quot;Mrs&quot;</td><td>1</td><td>1</td><td>0</td><td>0</td><td>1</td><td>0</td><td>0</td><td>0</td><td>0</td><td>0</td><td>4</td><td>4</td><td>0</td></tr><tr><td>1</td><td>3</td><td>0</td><td>26.0</td><td>0</td><td>0</td><td>7.925</td><td>0</td><td>0</td><td>&quot;Miss&quot;</td><td>0</td><td>0</td><td>0</td><td>0</td><td>0</td><td>0</td><td>0</td><td>0</td><td>0</td><td>0</td><td>3</td><td>2</td><td>0</td></tr><tr><td>1</td><td>1</td><td>0</td><td>35.0</td><td>1</td><td>0</td><td>53.1</td><td>0</td><td>0</td><td>&quot;Mrs&quot;</td><td>1</td><td>1</td><td>0</td><td>0</td><td>1</td><td>0</td><td>0</td><td>0</td><td>0</td><td>0</td><td>3</td><td>4</td><td>0</td></tr><tr><td>0</td><td>3</td><td>1</td><td>35.0</td><td>0</td><td>0</td><td>8.05</td><td>0</td><td>0</td><td>&quot;Mr&quot;</td><td>0</td><td>0</td><td>0</td><td>0</td><td>0</td><td>0</td><td>0</td><td>0</td><td>0</td><td>0</td><td>3</td><td>2</td><td>0</td></tr></tbody></table></div>"
      ],
      "text/plain": [
       "shape: (5, 23)\n",
       "┌─────┬─────┬─────┬─────┬─────┬─────┬─────┬─────┬─────┬─────┬─────┬─────┬─────┬─────┬─────┬─────┬─────┬─────┬─────┬─────┬─────┬─────┬─────┐\n",
       "│ Sur ┆ Pcl ┆ Sex ┆ Age ┆ Sib ┆ Par ┆ Far ┆ Emb ┆ Emb ┆ Tit ┆ Has ┆ Fam ┆ Dec ┆ Dec ┆ Dec ┆ Dec ┆ Dec ┆ Dec ┆ Dec ┆ Dec ┆ Age ┆ Far ┆ Has │\n",
       "│ viv ┆ ass ┆ --- ┆ --- ┆ Sp  ┆ ch  ┆ e   ┆ ark ┆ ark ┆ le  ┆ Cab ┆ ily ┆ k_A ┆ k_B ┆ k_C ┆ k_D ┆ k_E ┆ k_F ┆ k_G ┆ k_T ┆ Gro ┆ eGr ┆ Tit │\n",
       "│ ed  ┆ --- ┆ i32 ┆ f64 ┆ --- ┆ --- ┆ --- ┆ ed_ ┆ ed_ ┆ --- ┆ inR ┆ Siz ┆ --- ┆ --- ┆ --- ┆ --- ┆ --- ┆ --- ┆ --- ┆ --- ┆ upQ ┆ oup ┆ le  │\n",
       "│ --- ┆ i64 ┆     ┆     ┆ i64 ┆ i64 ┆ f64 ┆ C   ┆ Q   ┆ str ┆ egi ┆ e   ┆ u8  ┆ u8  ┆ u8  ┆ u8  ┆ u8  ┆ u8  ┆ u8  ┆ u8  ┆ uan ┆ Qua ┆ --- │\n",
       "│ i64 ┆     ┆     ┆     ┆     ┆     ┆     ┆ --- ┆ --- ┆     ┆ ste ┆ --- ┆     ┆     ┆     ┆     ┆     ┆     ┆     ┆     ┆ til ┆ nti ┆ i32 │\n",
       "│     ┆     ┆     ┆     ┆     ┆     ┆     ┆ u8  ┆ u8  ┆     ┆ red ┆ i64 ┆     ┆     ┆     ┆     ┆     ┆     ┆     ┆     ┆ es  ┆ les ┆     │\n",
       "│     ┆     ┆     ┆     ┆     ┆     ┆     ┆     ┆     ┆     ┆ --- ┆     ┆     ┆     ┆     ┆     ┆     ┆     ┆     ┆     ┆ --- ┆ --- ┆     │\n",
       "│     ┆     ┆     ┆     ┆     ┆     ┆     ┆     ┆     ┆     ┆ i32 ┆     ┆     ┆     ┆     ┆     ┆     ┆     ┆     ┆     ┆ i32 ┆ i32 ┆     │\n",
       "╞═════╪═════╪═════╪═════╪═════╪═════╪═════╪═════╪═════╪═════╪═════╪═════╪═════╪═════╪═════╪═════╪═════╪═════╪═════╪═════╪═════╪═════╪═════╡\n",
       "│ 0   ┆ 3   ┆ 1   ┆ 22. ┆ 1   ┆ 0   ┆ 7.2 ┆ 0   ┆ 0   ┆ Mr  ┆ 0   ┆ 1   ┆ 0   ┆ 0   ┆ 0   ┆ 0   ┆ 0   ┆ 0   ┆ 0   ┆ 0   ┆ 2   ┆ 1   ┆ 0   │\n",
       "│     ┆     ┆     ┆ 0   ┆     ┆     ┆ 5   ┆     ┆     ┆     ┆     ┆     ┆     ┆     ┆     ┆     ┆     ┆     ┆     ┆     ┆     ┆     ┆     │\n",
       "│ 1   ┆ 1   ┆ 0   ┆ 38. ┆ 1   ┆ 0   ┆ 71. ┆ 1   ┆ 0   ┆ Mrs ┆ 1   ┆ 1   ┆ 0   ┆ 0   ┆ 1   ┆ 0   ┆ 0   ┆ 0   ┆ 0   ┆ 0   ┆ 4   ┆ 4   ┆ 0   │\n",
       "│     ┆     ┆     ┆ 0   ┆     ┆     ┆ 283 ┆     ┆     ┆     ┆     ┆     ┆     ┆     ┆     ┆     ┆     ┆     ┆     ┆     ┆     ┆     ┆     │\n",
       "│     ┆     ┆     ┆     ┆     ┆     ┆ 3   ┆     ┆     ┆     ┆     ┆     ┆     ┆     ┆     ┆     ┆     ┆     ┆     ┆     ┆     ┆     ┆     │\n",
       "│ 1   ┆ 3   ┆ 0   ┆ 26. ┆ 0   ┆ 0   ┆ 7.9 ┆ 0   ┆ 0   ┆ Mis ┆ 0   ┆ 0   ┆ 0   ┆ 0   ┆ 0   ┆ 0   ┆ 0   ┆ 0   ┆ 0   ┆ 0   ┆ 3   ┆ 2   ┆ 0   │\n",
       "│     ┆     ┆     ┆ 0   ┆     ┆     ┆ 25  ┆     ┆     ┆ s   ┆     ┆     ┆     ┆     ┆     ┆     ┆     ┆     ┆     ┆     ┆     ┆     ┆     │\n",
       "│ 1   ┆ 1   ┆ 0   ┆ 35. ┆ 1   ┆ 0   ┆ 53. ┆ 0   ┆ 0   ┆ Mrs ┆ 1   ┆ 1   ┆ 0   ┆ 0   ┆ 1   ┆ 0   ┆ 0   ┆ 0   ┆ 0   ┆ 0   ┆ 3   ┆ 4   ┆ 0   │\n",
       "│     ┆     ┆     ┆ 0   ┆     ┆     ┆ 1   ┆     ┆     ┆     ┆     ┆     ┆     ┆     ┆     ┆     ┆     ┆     ┆     ┆     ┆     ┆     ┆     │\n",
       "│ 0   ┆ 3   ┆ 1   ┆ 35. ┆ 0   ┆ 0   ┆ 8.0 ┆ 0   ┆ 0   ┆ Mr  ┆ 0   ┆ 0   ┆ 0   ┆ 0   ┆ 0   ┆ 0   ┆ 0   ┆ 0   ┆ 0   ┆ 0   ┆ 3   ┆ 2   ┆ 0   │\n",
       "│     ┆     ┆     ┆ 0   ┆     ┆     ┆ 5   ┆     ┆     ┆     ┆     ┆     ┆     ┆     ┆     ┆     ┆     ┆     ┆     ┆     ┆     ┆     ┆     │\n",
       "└─────┴─────┴─────┴─────┴─────┴─────┴─────┴─────┴─────┴─────┴─────┴─────┴─────┴─────┴─────┴─────┴─────┴─────┴─────┴─────┴─────┴─────┴─────┘"
      ]
     },
     "execution_count": 324,
     "metadata": {},
     "output_type": "execute_result"
    }
   ],
   "source": [
    "df.write_csv(\"../Data/advancedDataframe.csv\")\n",
    "\n",
    "df.head()"
   ]
  }
 ],
 "metadata": {
  "kernelspec": {
   "display_name": "Python 3",
   "language": "python",
   "name": "python3"
  },
  "language_info": {
   "codemirror_mode": {
    "name": "ipython",
    "version": 3
   },
   "file_extension": ".py",
   "mimetype": "text/x-python",
   "name": "python",
   "nbconvert_exporter": "python",
   "pygments_lexer": "ipython3",
   "version": "3.13.2"
  }
 },
 "nbformat": 4,
 "nbformat_minor": 5
}
