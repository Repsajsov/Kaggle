{
 "cells": [
  {
   "cell_type": "code",
   "execution_count": 74,
   "id": "23aa1fe4",
   "metadata": {},
   "outputs": [],
   "source": [
    "import polars as pl\n",
    "from sklearn.decomposition import PCA\n",
    "\n",
    "df = pl.read_csv(\"../Data/Titanic/train.csv\")"
   ]
  },
  {
   "cell_type": "code",
   "execution_count": 75,
   "id": "94af58bc",
   "metadata": {},
   "outputs": [],
   "source": [
    "def standardize(column):\n",
    "    return (column - column.mean()) / column.std()\n",
    "\n",
    "df = df.with_columns(\n",
    "    (pl.col(\"Parch\") + pl.col(\"SibSp\") + 1).alias(\"FamilySize\"),\n",
    "    pl.when(pl.col(\"Age\") < 16).then(1).otherwise(0).alias(\"IsChild\"),\n",
    "    pl.when(pl.col(\"Cabin\").is_not_null()).then(1).otherwise(0).alias(\"HasCabinRegistered\"),\n",
    "    pl.col(\"Fare\").log1p().alias(\"Fare\"),\n",
    "    ).with_columns(\n",
    "        pl.when((pl.col(\"FamilySize\") >= 2) & (pl.col(\"FamilySize\") <= 4)).then(1).otherwise(0).alias(\"HasSmallFamily\"),\n",
    "        standardize(pl.col(\"Fare\")).alias(\"Fare\")\n",
    "        ).to_dummies([\n",
    "            \"Sex\", \n",
    "            \"Embarked\"\n",
    "            ]).drop([\n",
    "                \"Sex_male\",\n",
    "                \"Parch\",\n",
    "                \"SibSp\",\n",
    "                \"Name\",\n",
    "                \"Age\",\n",
    "                \"Ticket\",\n",
    "                \"Cabin\",\n",
    "                \"Embarked_S\",\n",
    "                \"Embarked_Q\",\n",
    "                \"Embarked_null\",\n",
    "                \"FamilySize\"\n",
    "                ], \n",
    "                strict=False\n",
    "                )\n",
    "\n",
    "pca = PCA().fit_transform(df[\"Pclass\", \"HasCabinRegistered\", \"Fare\"])\n",
    "\n",
    "df = df.with_columns(\n",
    "    pl.lit(pca[:, 0]).alias(\"PC1\"),\n",
    "    # pl.lit(pca[:, 1]).alias(\"PC2\"),\n",
    "    pl.lit(pca[:, 2]).alias(\"PC3\")\n",
    ").drop(\"Pclass\", \"HasCabinRegistered\", \"Fare\")"
   ]
  },
  {
   "cell_type": "code",
   "execution_count": 76,
   "id": "83fc0556",
   "metadata": {},
   "outputs": [],
   "source": [
    "df.write_csv(\"../Data/Titanic/advancedDataframeSolution.csv\")"
   ]
  }
 ],
 "metadata": {
  "kernelspec": {
   "display_name": "Python 3",
   "language": "python",
   "name": "python3"
  },
  "language_info": {
   "codemirror_mode": {
    "name": "ipython",
    "version": 3
   },
   "file_extension": ".py",
   "mimetype": "text/x-python",
   "name": "python",
   "nbconvert_exporter": "python",
   "pygments_lexer": "ipython3",
   "version": "3.13.2"
  }
 },
 "nbformat": 4,
 "nbformat_minor": 5
}
