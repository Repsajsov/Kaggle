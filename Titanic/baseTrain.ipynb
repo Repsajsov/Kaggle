{
 "cells": [
  {
   "cell_type": "code",
   "execution_count": null,
   "id": "c3bed248",
   "metadata": {},
   "outputs": [],
   "source": [
    "import polars as pl\n",
    "\n",
    "df = pl.read_csv(\"../../Data/Titanic/train.csv\")"
   ]
  },
  {
   "cell_type": "code",
   "execution_count": 7,
   "id": "22cb6093",
   "metadata": {},
   "outputs": [],
   "source": [
    "def standardize(column):\n",
    "    return (column - column.mean()) / column.std()\n",
    "\n",
    "df = df.with_columns(\n",
    "    pl.col(\"Age\").fill_null(pl.col(\"Age\").median()),\n",
    "    pl.col(\"Fare\").log1p().alias(\"Fare\"),\n",
    "    ).with_columns(\n",
    "        standardize(pl.col(\"Age\")).alias(\"Age\"),\n",
    "        standardize(pl.col(\"Fare\")).alias(\"Fare\")\n",
    "        ).to_dummies([\n",
    "            \"Embarked\",\n",
    "            \"Sex\"\n",
    "        ]).drop([\n",
    "            \"Name\",\n",
    "            \"Sex_male\",\n",
    "            \"Ticket\",\n",
    "            \"Cabin\",\n",
    "            \"Embarked_S\",\n",
    "            \"Embarked_null\",\n",
    "            ],\n",
    "            strict=False\n",
    "            )"
   ]
  },
  {
   "cell_type": "code",
   "execution_count": null,
   "id": "e5a46083",
   "metadata": {},
   "outputs": [
    {
     "data": {
      "text/html": [
       "<div><style>\n",
       ".dataframe > thead > tr,\n",
       ".dataframe > tbody > tr {\n",
       "  text-align: right;\n",
       "  white-space: pre-wrap;\n",
       "}\n",
       "</style>\n",
       "<small>shape: (5, 10)</small><table border=\"1\" class=\"dataframe\"><thead><tr><th>PassengerId</th><th>Survived</th><th>Pclass</th><th>Sex_female</th><th>Age</th><th>SibSp</th><th>Parch</th><th>Fare</th><th>Embarked_C</th><th>Embarked_Q</th></tr><tr><td>i64</td><td>i64</td><td>i64</td><td>u8</td><td>f64</td><td>i64</td><td>i64</td><td>f64</td><td>u8</td><td>u8</td></tr></thead><tbody><tr><td>1</td><td>0</td><td>3</td><td>0</td><td>-0.565419</td><td>1</td><td>0</td><td>-0.879247</td><td>0</td><td>0</td></tr><tr><td>2</td><td>1</td><td>1</td><td>1</td><td>0.663488</td><td>1</td><td>0</td><td>1.360456</td><td>1</td><td>0</td></tr><tr><td>3</td><td>1</td><td>3</td><td>1</td><td>-0.258192</td><td>0</td><td>0</td><td>-0.798092</td><td>0</td><td>0</td></tr><tr><td>4</td><td>1</td><td>1</td><td>1</td><td>0.433068</td><td>1</td><td>0</td><td>1.061442</td><td>0</td><td>0</td></tr><tr><td>5</td><td>0</td><td>3</td><td>0</td><td>0.433068</td><td>0</td><td>0</td><td>-0.783739</td><td>0</td><td>0</td></tr></tbody></table></div>"
      ],
      "text/plain": [
       "shape: (5, 10)\n",
       "┌─────────────┬──────────┬────────┬────────────┬───┬───────┬───────────┬────────────┬────────────┐\n",
       "│ PassengerId ┆ Survived ┆ Pclass ┆ Sex_female ┆ … ┆ Parch ┆ Fare      ┆ Embarked_C ┆ Embarked_Q │\n",
       "│ ---         ┆ ---      ┆ ---    ┆ ---        ┆   ┆ ---   ┆ ---       ┆ ---        ┆ ---        │\n",
       "│ i64         ┆ i64      ┆ i64    ┆ u8         ┆   ┆ i64   ┆ f64       ┆ u8         ┆ u8         │\n",
       "╞═════════════╪══════════╪════════╪════════════╪═══╪═══════╪═══════════╪════════════╪════════════╡\n",
       "│ 1           ┆ 0        ┆ 3      ┆ 0          ┆ … ┆ 0     ┆ -0.879247 ┆ 0          ┆ 0          │\n",
       "│ 2           ┆ 1        ┆ 1      ┆ 1          ┆ … ┆ 0     ┆ 1.360456  ┆ 1          ┆ 0          │\n",
       "│ 3           ┆ 1        ┆ 3      ┆ 1          ┆ … ┆ 0     ┆ -0.798092 ┆ 0          ┆ 0          │\n",
       "│ 4           ┆ 1        ┆ 1      ┆ 1          ┆ … ┆ 0     ┆ 1.061442  ┆ 0          ┆ 0          │\n",
       "│ 5           ┆ 0        ┆ 3      ┆ 0          ┆ … ┆ 0     ┆ -0.783739 ┆ 0          ┆ 0          │\n",
       "└─────────────┴──────────┴────────┴────────────┴───┴───────┴───────────┴────────────┴────────────┘"
      ]
     },
     "execution_count": 8,
     "metadata": {},
     "output_type": "execute_result"
    }
   ],
   "source": [
    "df.write_csv(\"../../Data/Titanic/baseTrain.csv\")\n",
    "\n",
    "df.head()"
   ]
  }
 ],
 "metadata": {
  "kernelspec": {
   "display_name": "Python 3",
   "language": "python",
   "name": "python3"
  },
  "language_info": {
   "codemirror_mode": {
    "name": "ipython",
    "version": 3
   },
   "file_extension": ".py",
   "mimetype": "text/x-python",
   "name": "python",
   "nbconvert_exporter": "python",
   "pygments_lexer": "ipython3",
   "version": "3.13.2"
  }
 },
 "nbformat": 4,
 "nbformat_minor": 5
}
