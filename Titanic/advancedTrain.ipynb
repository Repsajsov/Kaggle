{
 "cells": [
  {
   "cell_type": "code",
   "execution_count": 1,
   "id": "23aa1fe4",
   "metadata": {},
   "outputs": [],
   "source": [
    "import polars as pl\n",
    "from sklearn.decomposition import PCA\n",
    "\n",
    "df = pl.read_csv(\"../../Data/Titanic/train.csv\")"
   ]
  },
  {
   "cell_type": "code",
   "execution_count": 2,
   "id": "94af58bc",
   "metadata": {},
   "outputs": [],
   "source": [
    "def standardize(column):\n",
    "    return (column - column.mean()) / column.std()\n",
    "\n",
    "df = df.with_columns(\n",
    "    (pl.col(\"Parch\") + pl.col(\"SibSp\") + 1).alias(\"FamilySize\"),\n",
    "    pl.col(\"Fare\").fill_null(pl.col(\"Fare\").median()).alias(\"Fare\"),\n",
    "    pl.col(\"Age\").fill_null(pl.col(\"Age\").median()).alias(\"Age\"),\n",
    "    pl.when(pl.col(\"Age\") < 16).then(1).otherwise(0).alias(\"IsChild\"),\n",
    "    pl.when(pl.col(\"Cabin\").is_not_null()).then(1).otherwise(0).alias(\"HasCabinRegistered\"),\n",
    "    ).with_columns(\n",
    "        pl.col(\"Fare\").log1p().alias(\"Fare\"),\n",
    "        pl.when((pl.col(\"FamilySize\") >= 2) & (pl.col(\"FamilySize\") <= 4)).then(1).otherwise(0).alias(\"HasSmallFamily\"),\n",
    "        ).to_dummies([\n",
    "            \"Sex\", \n",
    "            \"Embarked\"\n",
    "            ]).drop([\n",
    "                \"Sex_male\",\n",
    "                \"Parch\",\n",
    "                \"SibSp\",\n",
    "                \"Name\",\n",
    "                \"Ticket\",\n",
    "                \"Cabin\",\n",
    "                \"Embarked_S\",\n",
    "                \"Embarked_Q\",\n",
    "                \"Embarked_null\",\n",
    "                \"FamilySize\"\n",
    "                ], \n",
    "                strict=False\n",
    "                ).with_columns(\n",
    "                    standardize(pl.col(\"Fare\")).alias(\"Fare\"),\n",
    "                    standardize(pl.col(\"Age\")).alias(\"Age\")\n",
    "                )\n",
    "\n",
    "pca = PCA().fit_transform(df[\"Pclass\", \"HasCabinRegistered\", \"Fare\"])\n",
    "\n",
    "df = df.with_columns(\n",
    "    pl.lit(pca[:, 0]).alias(\"PC1\"),\n",
    "    pl.lit(pca[:, 1]).alias(\"PC2\"),\n",
    "    pl.lit(pca[:, 2]).alias(\"PC3\")\n",
    ").drop(\"Pclass\", \"HasCabinRegistered\", \"Fare\")"
   ]
  },
  {
   "cell_type": "code",
   "execution_count": 3,
   "id": "e77ffdb5",
   "metadata": {},
   "outputs": [
    {
     "data": {
      "text/html": [
       "<div><style>\n",
       ".dataframe > thead > tr,\n",
       ".dataframe > tbody > tr {\n",
       "  text-align: right;\n",
       "  white-space: pre-wrap;\n",
       "}\n",
       "</style>\n",
       "<small>shape: (9, 11)</small><table border=\"1\" class=\"dataframe\"><thead><tr><th>statistic</th><th>PassengerId</th><th>Survived</th><th>Sex_female</th><th>Age</th><th>Embarked_C</th><th>IsChild</th><th>HasSmallFamily</th><th>PC1</th><th>PC2</th><th>PC3</th></tr><tr><td>str</td><td>f64</td><td>f64</td><td>f64</td><td>f64</td><td>f64</td><td>f64</td><td>f64</td><td>f64</td><td>f64</td><td>f64</td></tr></thead><tbody><tr><td>&quot;count&quot;</td><td>891.0</td><td>891.0</td><td>891.0</td><td>891.0</td><td>891.0</td><td>891.0</td><td>891.0</td><td>891.0</td><td>891.0</td><td>891.0</td></tr><tr><td>&quot;null_count&quot;</td><td>0.0</td><td>0.0</td><td>0.0</td><td>0.0</td><td>0.0</td><td>0.0</td><td>0.0</td><td>0.0</td><td>0.0</td><td>0.0</td></tr><tr><td>&quot;mean&quot;</td><td>446.0</td><td>0.383838</td><td>0.352413</td><td>2.5519e-16</td><td>0.188552</td><td>0.093154</td><td>0.327722</td><td>3.1899e-16</td><td>3.5089e-16</td><td>1.3557e-16</td></tr><tr><td>&quot;std&quot;</td><td>257.353842</td><td>0.486592</td><td>0.47799</td><td>1.0</td><td>0.391372</td><td>0.290811</td><td>0.469646</td><td>1.228698</td><td>0.541612</td><td>0.269641</td></tr><tr><td>&quot;min&quot;</td><td>1.0</td><td>0.0</td><td>0.0</td><td>-2.222908</td><td>0.0</td><td>0.0</td><td>0.0</td><td>-2.800219</td><td>-3.117542</td><td>-0.753444</td></tr><tr><td>&quot;25%&quot;</td><td>224.0</td><td>0.0</td><td>0.0</td><td>-0.565419</td><td>0.0</td><td>0.0</td><td>0.0</td><td>-1.078463</td><td>-0.223943</td><td>0.018771</td></tr><tr><td>&quot;50%&quot;</td><td>446.0</td><td>0.0</td><td>0.0</td><td>-0.104579</td><td>0.0</td><td>0.0</td><td>0.0</td><td>-0.281312</td><td>0.033323</td><td>0.052358</td></tr><tr><td>&quot;75%&quot;</td><td>669.0</td><td>1.0</td><td>1.0</td><td>0.433068</td><td>0.0</td><td>0.0</td><td>1.0</td><td>0.699211</td><td>0.167498</td><td>0.054718</td></tr><tr><td>&quot;max&quot;</td><td>891.0</td><td>1.0</td><td>1.0</td><td>3.88937</td><td>1.0</td><td>1.0</td><td>1.0</td><td>3.55271</td><td>1.418979</td><td>0.985163</td></tr></tbody></table></div>"
      ],
      "text/plain": [
       "shape: (9, 11)\n",
       "┌───────────┬───────────┬──────────┬───────────┬───┬───────────┬───────────┬───────────┬───────────┐\n",
       "│ statistic ┆ Passenger ┆ Survived ┆ Sex_femal ┆ … ┆ HasSmallF ┆ PC1       ┆ PC2       ┆ PC3       │\n",
       "│ ---       ┆ Id        ┆ ---      ┆ e         ┆   ┆ amily     ┆ ---       ┆ ---       ┆ ---       │\n",
       "│ str       ┆ ---       ┆ f64      ┆ ---       ┆   ┆ ---       ┆ f64       ┆ f64       ┆ f64       │\n",
       "│           ┆ f64       ┆          ┆ f64       ┆   ┆ f64       ┆           ┆           ┆           │\n",
       "╞═══════════╪═══════════╪══════════╪═══════════╪═══╪═══════════╪═══════════╪═══════════╪═══════════╡\n",
       "│ count     ┆ 891.0     ┆ 891.0    ┆ 891.0     ┆ … ┆ 891.0     ┆ 891.0     ┆ 891.0     ┆ 891.0     │\n",
       "│ null_coun ┆ 0.0       ┆ 0.0      ┆ 0.0       ┆ … ┆ 0.0       ┆ 0.0       ┆ 0.0       ┆ 0.0       │\n",
       "│ t         ┆           ┆          ┆           ┆   ┆           ┆           ┆           ┆           │\n",
       "│ mean      ┆ 446.0     ┆ 0.383838 ┆ 0.352413  ┆ … ┆ 0.327722  ┆ 3.1899e-1 ┆ 3.5089e-1 ┆ 1.3557e-1 │\n",
       "│           ┆           ┆          ┆           ┆   ┆           ┆ 6         ┆ 6         ┆ 6         │\n",
       "│ std       ┆ 257.35384 ┆ 0.486592 ┆ 0.47799   ┆ … ┆ 0.469646  ┆ 1.228698  ┆ 0.541612  ┆ 0.269641  │\n",
       "│           ┆ 2         ┆          ┆           ┆   ┆           ┆           ┆           ┆           │\n",
       "│ min       ┆ 1.0       ┆ 0.0      ┆ 0.0       ┆ … ┆ 0.0       ┆ -2.800219 ┆ -3.117542 ┆ -0.753444 │\n",
       "│ 25%       ┆ 224.0     ┆ 0.0      ┆ 0.0       ┆ … ┆ 0.0       ┆ -1.078463 ┆ -0.223943 ┆ 0.018771  │\n",
       "│ 50%       ┆ 446.0     ┆ 0.0      ┆ 0.0       ┆ … ┆ 0.0       ┆ -0.281312 ┆ 0.033323  ┆ 0.052358  │\n",
       "│ 75%       ┆ 669.0     ┆ 1.0      ┆ 1.0       ┆ … ┆ 1.0       ┆ 0.699211  ┆ 0.167498  ┆ 0.054718  │\n",
       "│ max       ┆ 891.0     ┆ 1.0      ┆ 1.0       ┆ … ┆ 1.0       ┆ 3.55271   ┆ 1.418979  ┆ 0.985163  │\n",
       "└───────────┴───────────┴──────────┴───────────┴───┴───────────┴───────────┴───────────┴───────────┘"
      ]
     },
     "execution_count": 3,
     "metadata": {},
     "output_type": "execute_result"
    }
   ],
   "source": [
    "df.describe()"
   ]
  },
  {
   "cell_type": "code",
   "execution_count": 4,
   "id": "83fc0556",
   "metadata": {},
   "outputs": [
    {
     "data": {
      "text/html": [
       "<div><style>\n",
       ".dataframe > thead > tr,\n",
       ".dataframe > tbody > tr {\n",
       "  text-align: right;\n",
       "  white-space: pre-wrap;\n",
       "}\n",
       "</style>\n",
       "<small>shape: (5, 10)</small><table border=\"1\" class=\"dataframe\"><thead><tr><th>PassengerId</th><th>Survived</th><th>Sex_female</th><th>Age</th><th>Embarked_C</th><th>IsChild</th><th>HasSmallFamily</th><th>PC1</th><th>PC2</th><th>PC3</th></tr><tr><td>i64</td><td>i64</td><td>u8</td><td>f64</td><td>u8</td><td>i32</td><td>i32</td><td>f64</td><td>f64</td><td>f64</td></tr></thead><tbody><tr><td>1</td><td>0</td><td>0</td><td>-0.565419</td><td>0</td><td>0</td><td>1</td><td>-1.140324</td><td>-0.013866</td><td>0.054224</td></tr><tr><td>2</td><td>1</td><td>1</td><td>0.663488</td><td>1</td><td>0</td><td>1</td><td>2.010718</td><td>-0.259612</td><td>0.217963</td></tr><tr><td>3</td><td>1</td><td>1</td><td>-0.258192</td><td>0</td><td>0</td><td>0</td><td>-1.078463</td><td>0.03864</td><td>0.052638</td></tr><tr><td>4</td><td>1</td><td>1</td><td>0.433068</td><td>0</td><td>0</td><td>1</td><td>1.782793</td><td>-0.453069</td><td>0.223803</td></tr><tr><td>5</td><td>0</td><td>0</td><td>0.433068</td><td>0</td><td>0</td><td>0</td><td>-1.067523</td><td>0.047926</td><td>0.052358</td></tr></tbody></table></div>"
      ],
      "text/plain": [
       "shape: (5, 10)\n",
       "┌────────────┬──────────┬───────────┬───────────┬───┬───────────┬───────────┬───────────┬──────────┐\n",
       "│ PassengerI ┆ Survived ┆ Sex_femal ┆ Age       ┆ … ┆ HasSmallF ┆ PC1       ┆ PC2       ┆ PC3      │\n",
       "│ d          ┆ ---      ┆ e         ┆ ---       ┆   ┆ amily     ┆ ---       ┆ ---       ┆ ---      │\n",
       "│ ---        ┆ i64      ┆ ---       ┆ f64       ┆   ┆ ---       ┆ f64       ┆ f64       ┆ f64      │\n",
       "│ i64        ┆          ┆ u8        ┆           ┆   ┆ i32       ┆           ┆           ┆          │\n",
       "╞════════════╪══════════╪═══════════╪═══════════╪═══╪═══════════╪═══════════╪═══════════╪══════════╡\n",
       "│ 1          ┆ 0        ┆ 0         ┆ -0.565419 ┆ … ┆ 1         ┆ -1.140324 ┆ -0.013866 ┆ 0.054224 │\n",
       "│ 2          ┆ 1        ┆ 1         ┆ 0.663488  ┆ … ┆ 1         ┆ 2.010718  ┆ -0.259612 ┆ 0.217963 │\n",
       "│ 3          ┆ 1        ┆ 1         ┆ -0.258192 ┆ … ┆ 0         ┆ -1.078463 ┆ 0.03864   ┆ 0.052638 │\n",
       "│ 4          ┆ 1        ┆ 1         ┆ 0.433068  ┆ … ┆ 1         ┆ 1.782793  ┆ -0.453069 ┆ 0.223803 │\n",
       "│ 5          ┆ 0        ┆ 0         ┆ 0.433068  ┆ … ┆ 0         ┆ -1.067523 ┆ 0.047926  ┆ 0.052358 │\n",
       "└────────────┴──────────┴───────────┴───────────┴───┴───────────┴───────────┴───────────┴──────────┘"
      ]
     },
     "execution_count": 4,
     "metadata": {},
     "output_type": "execute_result"
    }
   ],
   "source": [
    "df.write_csv(\"../../Data/Titanic/advancedTrain.csv\")\n",
    "\n",
    "df.head()"
   ]
  }
 ],
 "metadata": {
  "kernelspec": {
   "display_name": "Python 3",
   "language": "python",
   "name": "python3"
  },
  "language_info": {
   "codemirror_mode": {
    "name": "ipython",
    "version": 3
   },
   "file_extension": ".py",
   "mimetype": "text/x-python",
   "name": "python",
   "nbconvert_exporter": "python",
   "pygments_lexer": "ipython3",
   "version": "3.13.2"
  }
 },
 "nbformat": 4,
 "nbformat_minor": 5
}
