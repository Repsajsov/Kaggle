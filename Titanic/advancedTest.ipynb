{
 "cells": [
  {
   "cell_type": "code",
   "execution_count": 4,
   "id": "82d0c2c3",
   "metadata": {},
   "outputs": [],
   "source": [
    "import polars as pl\n",
    "from sklearn.decomposition import PCA\n",
    "from joblib import load\n",
    "import os\n",
    "\n",
    "df = pl.read_csv(\"../../Data/Titanic/test.csv\")"
   ]
  },
  {
   "cell_type": "code",
   "execution_count": 5,
   "id": "6e73b32a",
   "metadata": {},
   "outputs": [
    {
     "data": {
      "text/html": [
       "<div><style>\n",
       ".dataframe > thead > tr,\n",
       ".dataframe > tbody > tr {\n",
       "  text-align: right;\n",
       "  white-space: pre-wrap;\n",
       "}\n",
       "</style>\n",
       "<small>shape: (5, 9)</small><table border=\"1\" class=\"dataframe\"><thead><tr><th>PassengerId</th><th>Sex_female</th><th>Age</th><th>Embarked_C</th><th>IsChild</th><th>HasSmallFamily</th><th>PC1</th><th>PC2</th><th>PC3</th></tr><tr><td>i64</td><td>u8</td><td>f64</td><td>u8</td><td>i32</td><td>i32</td><td>f64</td><td>f64</td><td>f64</td></tr></thead><tbody><tr><td>892</td><td>0</td><td>0.385769</td><td>0</td><td>0</td><td>0</td><td>-1.154067</td><td>0.018429</td><td>0.067418</td></tr><tr><td>893</td><td>1</td><td>1.369729</td><td>0</td><td>0</td><td>1</td><td>-1.231309</td><td>-0.047905</td><td>0.073466</td></tr><tr><td>894</td><td>0</td><td>2.550481</td><td>0</td><td>0</td><td>0</td><td>-0.397537</td><td>-0.587521</td><td>-0.248034</td></tr><tr><td>895</td><td>0</td><td>-0.204607</td><td>0</td><td>0</td><td>0</td><td>-1.083431</td><td>0.07909</td><td>0.061887</td></tr><tr><td>896</td><td>1</td><td>-0.598191</td><td>0</td><td>0</td><td>1</td><td>-0.833925</td><td>0.293363</td><td>0.042349</td></tr></tbody></table></div>"
      ],
      "text/plain": [
       "shape: (5, 9)\n",
       "┌───────────┬───────────┬───────────┬───────────┬───┬───────────┬───────────┬───────────┬──────────┐\n",
       "│ Passenger ┆ Sex_femal ┆ Age       ┆ Embarked_ ┆ … ┆ HasSmallF ┆ PC1       ┆ PC2       ┆ PC3      │\n",
       "│ Id        ┆ e         ┆ ---       ┆ C         ┆   ┆ amily     ┆ ---       ┆ ---       ┆ ---      │\n",
       "│ ---       ┆ ---       ┆ f64       ┆ ---       ┆   ┆ ---       ┆ f64       ┆ f64       ┆ f64      │\n",
       "│ i64       ┆ u8        ┆           ┆ u8        ┆   ┆ i32       ┆           ┆           ┆          │\n",
       "╞═══════════╪═══════════╪═══════════╪═══════════╪═══╪═══════════╪═══════════╪═══════════╪══════════╡\n",
       "│ 892       ┆ 0         ┆ 0.385769  ┆ 0         ┆ … ┆ 0         ┆ -1.154067 ┆ 0.018429  ┆ 0.067418 │\n",
       "│ 893       ┆ 1         ┆ 1.369729  ┆ 0         ┆ … ┆ 1         ┆ -1.231309 ┆ -0.047905 ┆ 0.073466 │\n",
       "│ 894       ┆ 0         ┆ 2.550481  ┆ 0         ┆ … ┆ 0         ┆ -0.397537 ┆ -0.587521 ┆ -0.24803 │\n",
       "│           ┆           ┆           ┆           ┆   ┆           ┆           ┆           ┆ 4        │\n",
       "│ 895       ┆ 0         ┆ -0.204607 ┆ 0         ┆ … ┆ 0         ┆ -1.083431 ┆ 0.07909   ┆ 0.061887 │\n",
       "│ 896       ┆ 1         ┆ -0.598191 ┆ 0         ┆ … ┆ 1         ┆ -0.833925 ┆ 0.293363  ┆ 0.042349 │\n",
       "└───────────┴───────────┴───────────┴───────────┴───┴───────────┴───────────┴───────────┴──────────┘"
      ]
     },
     "execution_count": 5,
     "metadata": {},
     "output_type": "execute_result"
    }
   ],
   "source": [
    "def standardize(column):\n",
    "    return (column - column.mean()) / column.std()\n",
    "\n",
    "df = df.with_columns(\n",
    "    (pl.col(\"Parch\") + pl.col(\"SibSp\") + 1).alias(\"FamilySize\"),\n",
    "    pl.col(\"Fare\").fill_null(pl.col(\"Fare\").median()).alias(\"Fare\"),\n",
    "    pl.col(\"Age\").fill_null(pl.col(\"Age\").median()).alias(\"Age\"),\n",
    "    pl.when(pl.col(\"Age\") < 16).then(1).otherwise(0).alias(\"IsChild\"),\n",
    "    pl.when(pl.col(\"Cabin\").is_not_null()).then(1).otherwise(0).alias(\"HasCabinRegistered\"),\n",
    "    ).with_columns(\n",
    "        pl.col(\"Fare\").log1p().alias(\"Fare\"),\n",
    "        pl.when((pl.col(\"FamilySize\") >= 2) & (pl.col(\"FamilySize\") <= 4)).then(1).otherwise(0).alias(\"HasSmallFamily\"),\n",
    "        ).to_dummies([\n",
    "            \"Sex\", \n",
    "            \"Embarked\"\n",
    "            ]).drop([\n",
    "                \"Sex_male\",\n",
    "                \"Parch\",\n",
    "                \"SibSp\",\n",
    "                \"Name\",\n",
    "                \"Ticket\",\n",
    "                \"Cabin\",\n",
    "                \"Embarked_S\",\n",
    "                \"Embarked_Q\",\n",
    "                \"Embarked_null\",\n",
    "                \"FamilySize\"\n",
    "                ], \n",
    "                strict=False\n",
    "                ).with_columns(\n",
    "                    standardize(pl.col(\"Fare\")).alias(\"Fare\"),\n",
    "                    standardize(pl.col(\"Age\")).alias(\"Age\")\n",
    "                )\n",
    "\n",
    "pca = PCA().fit_transform(df[\"Pclass\", \"HasCabinRegistered\", \"Fare\"])\n",
    "\n",
    "df = df.with_columns(\n",
    "    pl.lit(pca[:, 0]).alias(\"PC1\"),\n",
    "    pl.lit(pca[:, 1]).alias(\"PC2\"),\n",
    "    pl.lit(pca[:, 2]).alias(\"PC3\")\n",
    ").drop(\"Pclass\", \"HasCabinRegistered\", \"Fare\")\n",
    "\n",
    "df.head()"
   ]
  },
  {
   "cell_type": "code",
   "execution_count": 6,
   "id": "ea3e040a",
   "metadata": {},
   "outputs": [
    {
     "name": "stdout",
     "output_type": "stream",
     "text": [
      "RandomForestClassifier__Sex_female__Age__Embarked_C__IsChild__HasSmallFamily__PC1__PC2__PC3\n"
     ]
    }
   ],
   "source": [
    "%store -r filename\n",
    "model = load(f'../../Models/Titanic/{filename}')\n",
    "\n",
    "index, X = df[\"PassengerId\"], df.drop(\"PassengerId\")\n",
    "predictions = model.predict(X)\n",
    "\n",
    "solution = pl.DataFrame({\n",
    "    \"PassengerId\" : index,\n",
    "    \"Survived\" : predictions\n",
    "})\n",
    "\n",
    "solution.write_csv(\"../../Data/Titanic/solution.csv\")\n",
    "print(filename[0:-7])"
   ]
  }
 ],
 "metadata": {
  "kernelspec": {
   "display_name": "Python 3",
   "language": "python",
   "name": "python3"
  },
  "language_info": {
   "codemirror_mode": {
    "name": "ipython",
    "version": 3
   },
   "file_extension": ".py",
   "mimetype": "text/x-python",
   "name": "python",
   "nbconvert_exporter": "python",
   "pygments_lexer": "ipython3",
   "version": "3.13.2"
  }
 },
 "nbformat": 4,
 "nbformat_minor": 5
}
