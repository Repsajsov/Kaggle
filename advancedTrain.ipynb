{
 "cells": [
  {
   "cell_type": "code",
   "execution_count": 47,
   "id": "23aa1fe4",
   "metadata": {},
   "outputs": [],
   "source": [
    "import polars as pl\n",
    "from sklearn.decomposition import PCA\n",
    "\n",
    "df = pl.read_csv(\"../Data/Titanic/train.csv\")"
   ]
  },
  {
   "cell_type": "code",
   "execution_count": 48,
   "id": "94af58bc",
   "metadata": {},
   "outputs": [],
   "source": [
    "def standardize(column):\n",
    "    return (column - column.mean()) / column.std()\n",
    "\n",
    "df = df.with_columns(\n",
    "    (pl.col(\"Parch\") + pl.col(\"SibSp\") + 1).alias(\"FamilySize\"),\n",
    "    pl.col(\"Fare\").fill_null(pl.col(\"Fare\").median()).alias(\"Fare\"),\n",
    "    pl.col(\"Age\").fill_null(pl.col(\"Age\").median()).alias(\"Age\"),\n",
    "    pl.when(pl.col(\"Age\") < 16).then(1).otherwise(0).alias(\"IsChild\"),\n",
    "    pl.when(pl.col(\"Cabin\").is_not_null()).then(1).otherwise(0).alias(\"HasCabinRegistered\"),\n",
    "    ).with_columns(\n",
    "        pl.col(\"Fare\").log1p().alias(\"Fare\"),\n",
    "        pl.when((pl.col(\"FamilySize\") >= 2) & (pl.col(\"FamilySize\") <= 4)).then(1).otherwise(0).alias(\"HasSmallFamily\"),\n",
    "        ).to_dummies([\n",
    "            \"Sex\", \n",
    "            \"Embarked\"\n",
    "            ]).drop([\n",
    "                \"Sex_male\",\n",
    "                \"Parch\",\n",
    "                \"SibSp\",\n",
    "                \"Name\",\n",
    "                \"Ticket\",\n",
    "                \"Cabin\",\n",
    "                \"Embarked_S\",\n",
    "                # \"Embarked_Q\",\n",
    "                \"Embarked_null\",\n",
    "                # \"FamilySize\"\n",
    "                ], \n",
    "                strict=False\n",
    "                ).with_columns(\n",
    "                    standardize(pl.col(\"Fare\")).alias(\"Fare\"),\n",
    "                    standardize(pl.col(\"Age\")).alias(\"Age\")\n",
    "                )\n",
    "\n",
    "# pca = PCA().fit_transform(df[\"Pclass\", \"HasCabinRegistered\", \"Fare\"])\n",
    "\n",
    "# df = df.with_columns(\n",
    "#     pl.lit(pca[:, 0]).alias(\"PC1\"),\n",
    "#     pl.lit(pca[:, 1]).alias(\"PC2\"),\n",
    "#     pl.lit(pca[:, 2]).alias(\"PC3\")\n",
    "# ).drop(\"Pclass\", \"HasCabinRegistered\", \"Fare\")"
   ]
  },
  {
   "cell_type": "code",
   "execution_count": 49,
   "id": "e77ffdb5",
   "metadata": {},
   "outputs": [
    {
     "data": {
      "text/html": [
       "<div><style>\n",
       ".dataframe > thead > tr,\n",
       ".dataframe > tbody > tr {\n",
       "  text-align: right;\n",
       "  white-space: pre-wrap;\n",
       "}\n",
       "</style>\n",
       "<small>shape: (9, 13)</small><table border=\"1\" class=\"dataframe\"><thead><tr><th>statistic</th><th>PassengerId</th><th>Survived</th><th>Pclass</th><th>Sex_female</th><th>Age</th><th>Fare</th><th>Embarked_C</th><th>Embarked_Q</th><th>FamilySize</th><th>IsChild</th><th>HasCabinRegistered</th><th>HasSmallFamily</th></tr><tr><td>str</td><td>f64</td><td>f64</td><td>f64</td><td>f64</td><td>f64</td><td>f64</td><td>f64</td><td>f64</td><td>f64</td><td>f64</td><td>f64</td><td>f64</td></tr></thead><tbody><tr><td>&quot;count&quot;</td><td>891.0</td><td>891.0</td><td>891.0</td><td>891.0</td><td>891.0</td><td>891.0</td><td>891.0</td><td>891.0</td><td>891.0</td><td>891.0</td><td>891.0</td><td>891.0</td></tr><tr><td>&quot;null_count&quot;</td><td>0.0</td><td>0.0</td><td>0.0</td><td>0.0</td><td>0.0</td><td>0.0</td><td>0.0</td><td>0.0</td><td>0.0</td><td>0.0</td><td>0.0</td><td>0.0</td></tr><tr><td>&quot;mean&quot;</td><td>446.0</td><td>0.383838</td><td>2.308642</td><td>0.352413</td><td>2.5519e-16</td><td>-3.1899e-16</td><td>0.188552</td><td>0.08642</td><td>1.904602</td><td>0.093154</td><td>0.228956</td><td>0.327722</td></tr><tr><td>&quot;std&quot;</td><td>257.353842</td><td>0.486592</td><td>0.836071</td><td>0.47799</td><td>1.0</td><td>1.0</td><td>0.391372</td><td>0.281141</td><td>1.613459</td><td>0.290811</td><td>0.420397</td><td>0.469646</td></tr><tr><td>&quot;min&quot;</td><td>1.0</td><td>0.0</td><td>1.0</td><td>0.0</td><td>-2.222908</td><td>-3.056861</td><td>0.0</td><td>0.0</td><td>1.0</td><td>0.0</td><td>0.0</td><td>0.0</td></tr><tr><td>&quot;25%&quot;</td><td>224.0</td><td>0.0</td><td>2.0</td><td>0.0</td><td>-0.565419</td><td>-0.798092</td><td>0.0</td><td>0.0</td><td>1.0</td><td>0.0</td><td>0.0</td><td>0.0</td></tr><tr><td>&quot;50%&quot;</td><td>446.0</td><td>0.0</td><td>3.0</td><td>0.0</td><td>-0.104579</td><td>-0.231531</td><td>0.0</td><td>0.0</td><td>1.0</td><td>0.0</td><td>0.0</td><td>0.0</td></tr><tr><td>&quot;75%&quot;</td><td>669.0</td><td>1.0</td><td>3.0</td><td>1.0</td><td>0.433068</td><td>0.519572</td><td>0.0</td><td>0.0</td><td>2.0</td><td>0.0</td><td>0.0</td><td>1.0</td></tr><tr><td>&quot;max&quot;</td><td>891.0</td><td>1.0</td><td>3.0</td><td>1.0</td><td>3.88937</td><td>3.383393</td><td>1.0</td><td>1.0</td><td>11.0</td><td>1.0</td><td>1.0</td><td>1.0</td></tr></tbody></table></div>"
      ],
      "text/plain": [
       "shape: (9, 13)\n",
       "┌────────────┬────────────┬──────────┬──────────┬───┬───────────┬──────────┬───────────┬───────────┐\n",
       "│ statistic  ┆ PassengerI ┆ Survived ┆ Pclass   ┆ … ┆ FamilySiz ┆ IsChild  ┆ HasCabinR ┆ HasSmallF │\n",
       "│ ---        ┆ d          ┆ ---      ┆ ---      ┆   ┆ e         ┆ ---      ┆ egistered ┆ amily     │\n",
       "│ str        ┆ ---        ┆ f64      ┆ f64      ┆   ┆ ---       ┆ f64      ┆ ---       ┆ ---       │\n",
       "│            ┆ f64        ┆          ┆          ┆   ┆ f64       ┆          ┆ f64       ┆ f64       │\n",
       "╞════════════╪════════════╪══════════╪══════════╪═══╪═══════════╪══════════╪═══════════╪═══════════╡\n",
       "│ count      ┆ 891.0      ┆ 891.0    ┆ 891.0    ┆ … ┆ 891.0     ┆ 891.0    ┆ 891.0     ┆ 891.0     │\n",
       "│ null_count ┆ 0.0        ┆ 0.0      ┆ 0.0      ┆ … ┆ 0.0       ┆ 0.0      ┆ 0.0       ┆ 0.0       │\n",
       "│ mean       ┆ 446.0      ┆ 0.383838 ┆ 2.308642 ┆ … ┆ 1.904602  ┆ 0.093154 ┆ 0.228956  ┆ 0.327722  │\n",
       "│ std        ┆ 257.353842 ┆ 0.486592 ┆ 0.836071 ┆ … ┆ 1.613459  ┆ 0.290811 ┆ 0.420397  ┆ 0.469646  │\n",
       "│ min        ┆ 1.0        ┆ 0.0      ┆ 1.0      ┆ … ┆ 1.0       ┆ 0.0      ┆ 0.0       ┆ 0.0       │\n",
       "│ 25%        ┆ 224.0      ┆ 0.0      ┆ 2.0      ┆ … ┆ 1.0       ┆ 0.0      ┆ 0.0       ┆ 0.0       │\n",
       "│ 50%        ┆ 446.0      ┆ 0.0      ┆ 3.0      ┆ … ┆ 1.0       ┆ 0.0      ┆ 0.0       ┆ 0.0       │\n",
       "│ 75%        ┆ 669.0      ┆ 1.0      ┆ 3.0      ┆ … ┆ 2.0       ┆ 0.0      ┆ 0.0       ┆ 1.0       │\n",
       "│ max        ┆ 891.0      ┆ 1.0      ┆ 3.0      ┆ … ┆ 11.0      ┆ 1.0      ┆ 1.0       ┆ 1.0       │\n",
       "└────────────┴────────────┴──────────┴──────────┴───┴───────────┴──────────┴───────────┴───────────┘"
      ]
     },
     "execution_count": 49,
     "metadata": {},
     "output_type": "execute_result"
    }
   ],
   "source": [
    "df.describe()"
   ]
  },
  {
   "cell_type": "code",
   "execution_count": 50,
   "id": "83fc0556",
   "metadata": {},
   "outputs": [
    {
     "data": {
      "text/html": [
       "<div><style>\n",
       ".dataframe > thead > tr,\n",
       ".dataframe > tbody > tr {\n",
       "  text-align: right;\n",
       "  white-space: pre-wrap;\n",
       "}\n",
       "</style>\n",
       "<small>shape: (5, 12)</small><table border=\"1\" class=\"dataframe\"><thead><tr><th>PassengerId</th><th>Survived</th><th>Pclass</th><th>Sex_female</th><th>Age</th><th>Fare</th><th>Embarked_C</th><th>Embarked_Q</th><th>FamilySize</th><th>IsChild</th><th>HasCabinRegistered</th><th>HasSmallFamily</th></tr><tr><td>i64</td><td>i64</td><td>i64</td><td>u8</td><td>f64</td><td>f64</td><td>u8</td><td>u8</td><td>i64</td><td>i32</td><td>i32</td><td>i32</td></tr></thead><tbody><tr><td>1</td><td>0</td><td>3</td><td>0</td><td>-0.565419</td><td>-0.879247</td><td>0</td><td>0</td><td>2</td><td>0</td><td>0</td><td>1</td></tr><tr><td>2</td><td>1</td><td>1</td><td>1</td><td>0.663488</td><td>1.360456</td><td>1</td><td>0</td><td>2</td><td>0</td><td>1</td><td>1</td></tr><tr><td>3</td><td>1</td><td>3</td><td>1</td><td>-0.258192</td><td>-0.798092</td><td>0</td><td>0</td><td>1</td><td>0</td><td>0</td><td>0</td></tr><tr><td>4</td><td>1</td><td>1</td><td>1</td><td>0.433068</td><td>1.061442</td><td>0</td><td>0</td><td>2</td><td>0</td><td>1</td><td>1</td></tr><tr><td>5</td><td>0</td><td>3</td><td>0</td><td>0.433068</td><td>-0.783739</td><td>0</td><td>0</td><td>1</td><td>0</td><td>0</td><td>0</td></tr></tbody></table></div>"
      ],
      "text/plain": [
       "shape: (5, 12)\n",
       "┌────────────┬──────────┬────────┬────────────┬───┬────────────┬─────────┬────────────┬────────────┐\n",
       "│ PassengerI ┆ Survived ┆ Pclass ┆ Sex_female ┆ … ┆ FamilySize ┆ IsChild ┆ HasCabinRe ┆ HasSmallFa │\n",
       "│ d          ┆ ---      ┆ ---    ┆ ---        ┆   ┆ ---        ┆ ---     ┆ gistered   ┆ mily       │\n",
       "│ ---        ┆ i64      ┆ i64    ┆ u8         ┆   ┆ i64        ┆ i32     ┆ ---        ┆ ---        │\n",
       "│ i64        ┆          ┆        ┆            ┆   ┆            ┆         ┆ i32        ┆ i32        │\n",
       "╞════════════╪══════════╪════════╪════════════╪═══╪════════════╪═════════╪════════════╪════════════╡\n",
       "│ 1          ┆ 0        ┆ 3      ┆ 0          ┆ … ┆ 2          ┆ 0       ┆ 0          ┆ 1          │\n",
       "│ 2          ┆ 1        ┆ 1      ┆ 1          ┆ … ┆ 2          ┆ 0       ┆ 1          ┆ 1          │\n",
       "│ 3          ┆ 1        ┆ 3      ┆ 1          ┆ … ┆ 1          ┆ 0       ┆ 0          ┆ 0          │\n",
       "│ 4          ┆ 1        ┆ 1      ┆ 1          ┆ … ┆ 2          ┆ 0       ┆ 1          ┆ 1          │\n",
       "│ 5          ┆ 0        ┆ 3      ┆ 0          ┆ … ┆ 1          ┆ 0       ┆ 0          ┆ 0          │\n",
       "└────────────┴──────────┴────────┴────────────┴───┴────────────┴─────────┴────────────┴────────────┘"
      ]
     },
     "execution_count": 50,
     "metadata": {},
     "output_type": "execute_result"
    }
   ],
   "source": [
    "df.write_csv(\"../Data/Titanic/advancedTrain.csv\")\n",
    "\n",
    "df.head()"
   ]
  }
 ],
 "metadata": {
  "kernelspec": {
   "display_name": "Python 3",
   "language": "python",
   "name": "python3"
  },
  "language_info": {
   "codemirror_mode": {
    "name": "ipython",
    "version": 3
   },
   "file_extension": ".py",
   "mimetype": "text/x-python",
   "name": "python",
   "nbconvert_exporter": "python",
   "pygments_lexer": "ipython3",
   "version": "3.13.2"
  }
 },
 "nbformat": 4,
 "nbformat_minor": 5
}
