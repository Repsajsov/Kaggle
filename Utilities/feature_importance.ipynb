{
 "cells": [
  {
   "cell_type": "code",
   "execution_count": 42,
   "id": "d64cbc4c",
   "metadata": {},
   "outputs": [],
   "source": [
    "from collections import defaultdict\n",
    "import polars as pl\n",
    "from sklearn.model_selection import KFold\n",
    "from sklearn.linear_model import LogisticRegression\n",
    "from sklearn.metrics import accuracy_score\n",
    "\n",
    "df = pl.read_csv(\"../../Data/advancedDataframe.csv\")"
   ]
  },
  {
   "cell_type": "code",
   "execution_count": 43,
   "id": "33a59329",
   "metadata": {},
   "outputs": [],
   "source": [
    "class LassoClassifierCV:\n",
    "    def __init__(self, cv=5, c_values=[0.001, 0.01, 0.1, 1, 10], random_state=42):\n",
    "        self.cv = cv\n",
    "        self.models = defaultdict(list) \n",
    "        self.c_values = c_values\n",
    "        self.best_estimator = None\n",
    "        self.random_state = random_state\n",
    "        self.results = defaultdict(list)\n",
    "    \n",
    "    def fit(self, X, y):\n",
    "        cv = KFold(n_splits=self.cv)\n",
    "        features=list(X.columns)\n",
    "        best_score = -1\n",
    "        \n",
    "        for c in self.c_values:\n",
    "            model = LogisticRegression(C=c, penalty=\"l1\", solver=\"liblinear\", random_state=self.random_state)\n",
    "            for train_indices, test_indices in cv.split(X, y):\n",
    "                model.fit(X[train_indices], y[train_indices])\n",
    "                y_pred = model.predict(X[test_indices])\n",
    "                score = accuracy_score(y_pred=y_pred, y_true=y[test_indices])\n",
    "                \n",
    "                self.models[f\"model_splits_c{c}\"].append(model)\n",
    "                coefs = model.coef_.flatten()\n",
    "                for feature, coef in zip(features, coefs):\n",
    "                    self.results[f\"{feature}_c{c}\"].append(coef)\n",
    "                self.results[f\"score_splits_c{c}\"].append(score)\n",
    "                if score > best_score:\n",
    "                    best_score = score\n",
    "                    self.best_estimator = model\n",
    "\n",
    "        return self \n",
    "    \n",
    "    def report(self):\n",
    "        report = pl.DataFrame(self.results)\n",
    "        report = pl.concat([report, report.mean()], how=\"vertical\")\n",
    "        return report\n",
    "\n",
    "    def plot(self):\n",
    "        return pl.DataFrame(self.results).mean()\n",
    "        \n",
    "    def predict(X):\n",
    "        pass\n",
    "\n",
    "    def _get_formula():\n",
    "        pass\n"
   ]
  },
  {
   "cell_type": "code",
   "execution_count": 44,
   "id": "643efa4e",
   "metadata": {},
   "outputs": [],
   "source": [
    "df = df.drop(\"Title\")"
   ]
  },
  {
   "cell_type": "code",
   "execution_count": 45,
   "id": "666a1a84",
   "metadata": {},
   "outputs": [
    {
     "data": {
      "text/html": [
       "<div><style>\n",
       ".dataframe > thead > tr,\n",
       ".dataframe > tbody > tr {\n",
       "  text-align: right;\n",
       "  white-space: pre-wrap;\n",
       "}\n",
       "</style>\n",
       "<small>shape: (6, 110)</small><table border=\"1\" class=\"dataframe\"><thead><tr><th>Pclass_c0.001</th><th>Sex_c0.001</th><th>Age_c0.001</th><th>SibSp_c0.001</th><th>Parch_c0.001</th><th>Fare_c0.001</th><th>Embarked_C_c0.001</th><th>Embarked_Q_c0.001</th><th>HasCabinRegistered_c0.001</th><th>FamilySize_c0.001</th><th>Deck_A_c0.001</th><th>Deck_B_c0.001</th><th>Deck_C_c0.001</th><th>Deck_D_c0.001</th><th>Deck_E_c0.001</th><th>Deck_F_c0.001</th><th>Deck_G_c0.001</th><th>Deck_T_c0.001</th><th>AgeGroupQuantiles_c0.001</th><th>FareGroupQuantiles_c0.001</th><th>HasTitle_c0.001</th><th>score_splits_c0.001</th><th>Pclass_c0.01</th><th>Sex_c0.01</th><th>Age_c0.01</th><th>SibSp_c0.01</th><th>Parch_c0.01</th><th>Fare_c0.01</th><th>Embarked_C_c0.01</th><th>Embarked_Q_c0.01</th><th>HasCabinRegistered_c0.01</th><th>FamilySize_c0.01</th><th>Deck_A_c0.01</th><th>Deck_B_c0.01</th><th>Deck_C_c0.01</th><th>Deck_D_c0.01</th><th>Deck_E_c0.01</th><th>&hellip;</th><th>Embarked_Q_c1</th><th>HasCabinRegistered_c1</th><th>FamilySize_c1</th><th>Deck_A_c1</th><th>Deck_B_c1</th><th>Deck_C_c1</th><th>Deck_D_c1</th><th>Deck_E_c1</th><th>Deck_F_c1</th><th>Deck_G_c1</th><th>Deck_T_c1</th><th>AgeGroupQuantiles_c1</th><th>FareGroupQuantiles_c1</th><th>HasTitle_c1</th><th>score_splits_c1</th><th>Pclass_c10</th><th>Sex_c10</th><th>Age_c10</th><th>SibSp_c10</th><th>Parch_c10</th><th>Fare_c10</th><th>Embarked_C_c10</th><th>Embarked_Q_c10</th><th>HasCabinRegistered_c10</th><th>FamilySize_c10</th><th>Deck_A_c10</th><th>Deck_B_c10</th><th>Deck_C_c10</th><th>Deck_D_c10</th><th>Deck_E_c10</th><th>Deck_F_c10</th><th>Deck_G_c10</th><th>Deck_T_c10</th><th>AgeGroupQuantiles_c10</th><th>FareGroupQuantiles_c10</th><th>HasTitle_c10</th><th>score_splits_c10</th></tr><tr><td>f64</td><td>f64</td><td>f64</td><td>f64</td><td>f64</td><td>f64</td><td>f64</td><td>f64</td><td>f64</td><td>f64</td><td>f64</td><td>f64</td><td>f64</td><td>f64</td><td>f64</td><td>f64</td><td>f64</td><td>f64</td><td>f64</td><td>f64</td><td>f64</td><td>f64</td><td>f64</td><td>f64</td><td>f64</td><td>f64</td><td>f64</td><td>f64</td><td>f64</td><td>f64</td><td>f64</td><td>f64</td><td>f64</td><td>f64</td><td>f64</td><td>f64</td><td>f64</td><td>&hellip;</td><td>f64</td><td>f64</td><td>f64</td><td>f64</td><td>f64</td><td>f64</td><td>f64</td><td>f64</td><td>f64</td><td>f64</td><td>f64</td><td>f64</td><td>f64</td><td>f64</td><td>f64</td><td>f64</td><td>f64</td><td>f64</td><td>f64</td><td>f64</td><td>f64</td><td>f64</td><td>f64</td><td>f64</td><td>f64</td><td>f64</td><td>f64</td><td>f64</td><td>f64</td><td>f64</td><td>f64</td><td>f64</td><td>f64</td><td>f64</td><td>f64</td><td>f64</td><td>f64</td></tr></thead><tbody><tr><td>0.0</td><td>0.0</td><td>-0.015867</td><td>0.0</td><td>0.0</td><td>0.008766</td><td>0.0</td><td>0.0</td><td>0.0</td><td>0.0</td><td>0.0</td><td>0.0</td><td>0.0</td><td>0.0</td><td>0.0</td><td>0.0</td><td>0.0</td><td>0.0</td><td>0.0</td><td>0.0</td><td>0.0</td><td>0.614525</td><td>-0.042808</td><td>0.0</td><td>-0.026674</td><td>0.0</td><td>0.0</td><td>0.017526</td><td>0.0</td><td>0.0</td><td>0.0</td><td>0.0</td><td>0.0</td><td>0.0</td><td>0.0</td><td>0.0</td><td>0.0</td><td>&hellip;</td><td>0.046716</td><td>0.211238</td><td>-0.427367</td><td>0.0</td><td>0.311522</td><td>-0.131183</td><td>0.432455</td><td>1.179076</td><td>0.213158</td><td>0.0</td><td>0.0</td><td>0.087147</td><td>0.504282</td><td>1.678614</td><td>0.804469</td><td>-0.609523</td><td>-2.975365</td><td>-0.04464</td><td>-0.229136</td><td>-0.136624</td><td>0.001919</td><td>0.570492</td><td>0.150246</td><td>0.0</td><td>-0.279411</td><td>-0.112662</td><td>0.6997</td><td>-0.096437</td><td>0.87993</td><td>1.627137</td><td>1.152658</td><td>-1.104139</td><td>-1.564053</td><td>0.127435</td><td>0.467149</td><td>1.800732</td><td>0.793296</td></tr><tr><td>0.0</td><td>0.0</td><td>-0.014757</td><td>0.0</td><td>0.0</td><td>0.004459</td><td>0.0</td><td>0.0</td><td>0.0</td><td>0.0</td><td>0.0</td><td>0.0</td><td>0.0</td><td>0.0</td><td>0.0</td><td>0.0</td><td>0.0</td><td>0.0</td><td>0.0</td><td>0.0</td><td>0.0</td><td>0.651685</td><td>-0.075177</td><td>0.0</td><td>-0.021841</td><td>0.0</td><td>0.0</td><td>0.011235</td><td>0.0</td><td>0.0</td><td>0.0</td><td>0.0</td><td>0.0</td><td>0.0</td><td>0.0</td><td>0.0</td><td>0.0</td><td>&hellip;</td><td>0.0</td><td>0.784262</td><td>-0.24896</td><td>0.0</td><td>0.0</td><td>-0.114221</td><td>0.336895</td><td>0.844849</td><td>0.0</td><td>0.0</td><td>0.0</td><td>0.358577</td><td>0.174727</td><td>1.769726</td><td>0.803371</td><td>-0.713145</td><td>-3.174284</td><td>-0.062896</td><td>-0.321878</td><td>0.0</td><td>0.002698</td><td>0.472407</td><td>0.0</td><td>0.693844</td><td>-0.239894</td><td>-0.087423</td><td>0.003095</td><td>-0.250495</td><td>0.636152</td><td>1.151121</td><td>-0.0023</td><td>1.598648</td><td>0.0</td><td>0.380079</td><td>0.087111</td><td>1.946305</td><td>0.814607</td></tr><tr><td>0.0</td><td>0.0</td><td>-0.01705</td><td>0.0</td><td>0.0</td><td>0.007553</td><td>0.0</td><td>0.0</td><td>0.0</td><td>0.0</td><td>0.0</td><td>0.0</td><td>0.0</td><td>0.0</td><td>0.0</td><td>0.0</td><td>0.0</td><td>0.0</td><td>0.0</td><td>0.0</td><td>0.0</td><td>0.646067</td><td>-0.006558</td><td>0.0</td><td>-0.030604</td><td>0.0</td><td>0.0</td><td>0.016505</td><td>0.0</td><td>0.0</td><td>0.0</td><td>0.0</td><td>0.0</td><td>0.0</td><td>0.0</td><td>0.0</td><td>0.0</td><td>&hellip;</td><td>0.066785</td><td>0.602671</td><td>-0.362091</td><td>0.0</td><td>0.0</td><td>0.0</td><td>0.729171</td><td>0.815363</td><td>0.0</td><td>-0.762546</td><td>0.0</td><td>0.200696</td><td>0.323923</td><td>1.730059</td><td>0.780899</td><td>-0.420465</td><td>-3.122906</td><td>-0.057793</td><td>-0.22767</td><td>0.0</td><td>0.005231</td><td>0.284785</td><td>0.139077</td><td>0.504851</td><td>-0.352542</td><td>0.225936</td><td>0.0</td><td>0.0</td><td>1.078196</td><td>1.224869</td><td>0.42368</td><td>-2.145291</td><td>-1.35128</td><td>0.235967</td><td>0.259622</td><td>1.863019</td><td>0.769663</td></tr><tr><td>0.0</td><td>0.0</td><td>-0.015279</td><td>0.0</td><td>0.0</td><td>0.005391</td><td>0.0</td><td>0.0</td><td>0.0</td><td>0.0</td><td>0.0</td><td>0.0</td><td>0.0</td><td>0.0</td><td>0.0</td><td>0.0</td><td>0.0</td><td>0.0</td><td>0.0</td><td>0.0</td><td>0.0</td><td>0.646067</td><td>-0.002847</td><td>0.0</td><td>-0.027622</td><td>0.0</td><td>0.0</td><td>0.012479</td><td>0.0</td><td>0.0</td><td>0.0</td><td>0.0</td><td>0.0</td><td>0.0</td><td>0.0</td><td>0.0</td><td>0.0</td><td>&hellip;</td><td>0.368102</td><td>0.532017</td><td>-0.141176</td><td>0.0</td><td>0.201883</td><td>0.0</td><td>0.727528</td><td>1.028686</td><td>0.014572</td><td>-0.426363</td><td>0.0</td><td>0.496969</td><td>0.288557</td><td>1.658697</td><td>0.797753</td><td>-0.439113</td><td>-3.18738</td><td>-0.082789</td><td>-0.499556</td><td>0.0</td><td>0.001914</td><td>0.235886</td><td>0.486691</td><td>0.383576</td><td>-0.129304</td><td>-0.295791</td><td>0.574816</td><td>0.0</td><td>1.138415</td><td>1.503004</td><td>0.681471</td><td>-1.42514</td><td>-1.11733</td><td>0.583964</td><td>0.244833</td><td>1.772423</td><td>0.792135</td></tr><tr><td>0.0</td><td>0.0</td><td>-0.013252</td><td>0.0</td><td>0.0</td><td>0.004937</td><td>0.0</td><td>0.0</td><td>0.0</td><td>0.0</td><td>0.0</td><td>0.0</td><td>0.0</td><td>0.0</td><td>0.0</td><td>0.0</td><td>0.0</td><td>0.0</td><td>0.0</td><td>0.0</td><td>0.0</td><td>0.691011</td><td>-0.007375</td><td>0.0</td><td>-0.024594</td><td>0.0</td><td>0.0</td><td>0.011693</td><td>0.0</td><td>0.0</td><td>0.0</td><td>0.0</td><td>0.0</td><td>0.0</td><td>0.0</td><td>0.0</td><td>0.0</td><td>&hellip;</td><td>0.156189</td><td>0.647184</td><td>-0.338645</td><td>0.0</td><td>0.0</td><td>-0.452477</td><td>0.482905</td><td>0.522141</td><td>0.032374</td><td>-0.209823</td><td>0.0</td><td>0.191847</td><td>0.309287</td><td>1.715009</td><td>0.837079</td><td>-0.614849</td><td>-3.001633</td><td>-0.050813</td><td>-0.17565</td><td>0.0</td><td>0.001407</td><td>0.221035</td><td>0.233238</td><td>0.550184</td><td>-0.327613</td><td>0.0</td><td>0.218721</td><td>-0.502384</td><td>0.861651</td><td>0.884</td><td>0.709809</td><td>-1.221585</td><td>-1.817352</td><td>0.23823</td><td>0.248881</td><td>1.882398</td><td>0.831461</td></tr><tr><td>0.0</td><td>0.0</td><td>-0.015241</td><td>0.0</td><td>0.0</td><td>0.006221</td><td>0.0</td><td>0.0</td><td>0.0</td><td>0.0</td><td>0.0</td><td>0.0</td><td>0.0</td><td>0.0</td><td>0.0</td><td>0.0</td><td>0.0</td><td>0.0</td><td>0.0</td><td>0.0</td><td>0.0</td><td>0.649871</td><td>-0.026953</td><td>0.0</td><td>-0.026267</td><td>0.0</td><td>0.0</td><td>0.013887</td><td>0.0</td><td>0.0</td><td>0.0</td><td>0.0</td><td>0.0</td><td>0.0</td><td>0.0</td><td>0.0</td><td>0.0</td><td>&hellip;</td><td>0.127558</td><td>0.555475</td><td>-0.303648</td><td>0.0</td><td>0.102681</td><td>-0.139576</td><td>0.541791</td><td>0.878023</td><td>0.052021</td><td>-0.279746</td><td>0.0</td><td>0.267047</td><td>0.320155</td><td>1.710421</td><td>0.804714</td><td>-0.559419</td><td>-3.092314</td><td>-0.059786</td><td>-0.290778</td><td>-0.027325</td><td>0.002634</td><td>0.356921</td><td>0.20185</td><td>0.426491</td><td>-0.265753</td><td>-0.053988</td><td>0.299266</td><td>-0.169863</td><td>0.918869</td><td>1.278026</td><td>0.593064</td><td>-0.859501</td><td>-1.170003</td><td>0.313135</td><td>0.261519</td><td>1.852975</td><td>0.800232</td></tr></tbody></table></div>"
      ],
      "text/plain": [
       "shape: (6, 110)\n",
       "┌───────────┬───────────┬───────────┬───────────┬───┬───────────┬───────────┬───────────┬──────────┐\n",
       "│ Pclass_c0 ┆ Sex_c0.00 ┆ Age_c0.00 ┆ SibSp_c0. ┆ … ┆ AgeGroupQ ┆ FareGroup ┆ HasTitle_ ┆ score_sp │\n",
       "│ .001      ┆ 1         ┆ 1         ┆ 001       ┆   ┆ uantiles_ ┆ Quantiles ┆ c10       ┆ lits_c10 │\n",
       "│ ---       ┆ ---       ┆ ---       ┆ ---       ┆   ┆ c10       ┆ _c10      ┆ ---       ┆ ---      │\n",
       "│ f64       ┆ f64       ┆ f64       ┆ f64       ┆   ┆ ---       ┆ ---       ┆ f64       ┆ f64      │\n",
       "│           ┆           ┆           ┆           ┆   ┆ f64       ┆ f64       ┆           ┆          │\n",
       "╞═══════════╪═══════════╪═══════════╪═══════════╪═══╪═══════════╪═══════════╪═══════════╪══════════╡\n",
       "│ 0.0       ┆ 0.0       ┆ -0.015867 ┆ 0.0       ┆ … ┆ 0.127435  ┆ 0.467149  ┆ 1.800732  ┆ 0.793296 │\n",
       "│ 0.0       ┆ 0.0       ┆ -0.014757 ┆ 0.0       ┆ … ┆ 0.380079  ┆ 0.087111  ┆ 1.946305  ┆ 0.814607 │\n",
       "│ 0.0       ┆ 0.0       ┆ -0.01705  ┆ 0.0       ┆ … ┆ 0.235967  ┆ 0.259622  ┆ 1.863019  ┆ 0.769663 │\n",
       "│ 0.0       ┆ 0.0       ┆ -0.015279 ┆ 0.0       ┆ … ┆ 0.583964  ┆ 0.244833  ┆ 1.772423  ┆ 0.792135 │\n",
       "│ 0.0       ┆ 0.0       ┆ -0.013252 ┆ 0.0       ┆ … ┆ 0.23823   ┆ 0.248881  ┆ 1.882398  ┆ 0.831461 │\n",
       "│ 0.0       ┆ 0.0       ┆ -0.015241 ┆ 0.0       ┆ … ┆ 0.313135  ┆ 0.261519  ┆ 1.852975  ┆ 0.800232 │\n",
       "└───────────┴───────────┴───────────┴───────────┴───┴───────────┴───────────┴───────────┴──────────┘"
      ]
     },
     "execution_count": 45,
     "metadata": {},
     "output_type": "execute_result"
    }
   ],
   "source": [
    "thing = LassoClassifierCV(c_values=[0.01, 0.02, 0.05, 0.07, 1])\n",
    "\n",
    "X, y = df.drop(\"Survived\"), df[\"Survived\"]\n",
    "\n",
    "model = LassoClassifierCV().fit(X, y)\n",
    "model.report()"
   ]
  },
  {
   "cell_type": "code",
   "execution_count": null,
   "id": "996be7ce",
   "metadata": {},
   "outputs": [],
   "source": []
  }
 ],
 "metadata": {
  "kernelspec": {
   "display_name": "kaggle",
   "language": "python",
   "name": "python3"
  },
  "language_info": {
   "codemirror_mode": {
    "name": "ipython",
    "version": 3
   },
   "file_extension": ".py",
   "mimetype": "text/x-python",
   "name": "python",
   "nbconvert_exporter": "python",
   "pygments_lexer": "ipython3",
   "version": "3.13.2"
  }
 },
 "nbformat": 4,
 "nbformat_minor": 5
}
